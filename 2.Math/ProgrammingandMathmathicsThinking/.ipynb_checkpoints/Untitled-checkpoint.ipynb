{
 "cells": [
  {
   "cell_type": "markdown",
   "metadata": {},
   "source": [
    "### statement"
   ]
  },
  {
   "cell_type": "code",
   "execution_count": 1,
   "metadata": {
    "collapsed": false
   },
   "outputs": [
    {
     "name": "stdout",
     "output_type": "stream",
     "text": [
      "28.714285714285715\n"
     ]
    }
   ],
   "source": [
    "file=(1,23,14,23,5,12,123)\n",
    "\n",
    "#fine mean\n",
    "sum=0\n",
    "count=0\n",
    "\n",
    "\n",
    "# Use \"#\" in order to write comment;\n",
    "for line in file:#header \n",
    "    \n",
    "    \n",
    "    \n",
    "    \n",
    "    n=int(line)#convert digits to an integer\n",
    "    sum += n\n",
    "    count +=1\n",
    "print(sum/count)\n",
    "    "
   ]
  },
  {
   "cell_type": "markdown",
   "metadata": {},
   "source": [
    "### Conditional"
   ]
  },
  {
   "cell_type": "code",
   "execution_count": 2,
   "metadata": {
    "collapsed": false
   },
   "outputs": [
    {
     "name": "stdout",
     "output_type": "stream",
     "text": [
      "wonseok\n",
      "hi hiba\n",
      "joon\n",
      "hee\n"
     ]
    }
   ],
   "source": [
    "# if statement\n",
    "\n",
    "name=(\"wonseok\",\"hiba\",\"joon\",\"hee\")\n",
    "\n",
    "for i in name:\n",
    "    if i==\"hiba\":\n",
    "        print(\"hi hiba\")\n",
    "    else:\n",
    "        print(i)"
   ]
  },
  {
   "cell_type": "code",
   "execution_count": 3,
   "metadata": {
    "collapsed": false
   },
   "outputs": [
    {
     "name": "stdout",
     "output_type": "stream",
     "text": [
      "I will take a \n"
     ]
    }
   ],
   "source": [
    "a=4\n",
    "b=0\n",
    "\n",
    "if a>b:\n",
    "    print(\"I will take a \")\n",
    "else:\n",
    "    print(\"I will take b\")"
   ]
  },
  {
   "cell_type": "code",
   "execution_count": 4,
   "metadata": {
    "collapsed": false
   },
   "outputs": [
    {
     "name": "stdout",
     "output_type": "stream",
     "text": [
      "Above average\n"
     ]
    }
   ],
   "source": [
    "testScore=23\n",
    "medianScore=12\n",
    "\n",
    "if testScore>medianScore:\n",
    "    print(\"Above average\")\n",
    "else:\n",
    "    if testScore == medianScore:\n",
    "        print(\"Average.\")\n",
    "    else:\n",
    "        print(\"Below average\")"
   ]
  },
  {
   "cell_type": "markdown",
   "metadata": {},
   "source": [
    "### iteration"
   ]
  },
  {
   "cell_type": "code",
   "execution_count": 5,
   "metadata": {
    "collapsed": false
   },
   "outputs": [
    {
     "name": "stdout",
     "output_type": "stream",
     "text": [
      "2 to the 0 power is 1\n",
      "2 to the 1 power is 2\n",
      "2 to the 2 power is 4\n",
      "2 to the 3 power is 8\n",
      "2 to the 4 power is 16\n",
      "2 to the 5 power is 32\n",
      "2 to the 6 power is 64\n",
      "2 to the 7 power is 128\n",
      "2 to the 8 power is 256\n",
      "2 to the 9 power is 512\n",
      "2 to the 10 power is 1024\n",
      "2 to the 11 power is 2048\n",
      "2 to the 12 power is 4096\n",
      "2 to the 13 power is 8192\n",
      "2 to the 14 power is 16384\n",
      "2 to the 15 power is 32768\n",
      "2 to the 16 power is 65536\n",
      "2 to the 17 power is 131072\n",
      "2 to the 18 power is 262144\n",
      "2 to the 19 power is 524288\n"
     ]
    }
   ],
   "source": [
    "# for statement\n",
    "\n",
    "for i in range(20):\n",
    "    print(\"2 to the \" + str(i) + \" power is \" +str(2**i))"
   ]
  },
  {
   "cell_type": "code",
   "execution_count": 6,
   "metadata": {
    "collapsed": false
   },
   "outputs": [
    {
     "name": "stdout",
     "output_type": "stream",
     "text": [
      "e\n",
      "o\n",
      "a\n",
      "e\n",
      "i\n",
      "i\n",
      "There are 6 vowels in that sentences\n"
     ]
    }
   ],
   "source": [
    "sentence = \"hello at me swimming\"\n",
    "vowels =0\n",
    "for c in sentence:\n",
    "    if c in \"aeiou\":\n",
    "        vowels+=1\n",
    "        print(c)\n",
    "print(\"There are \" + str(vowels) + \" vowels in that sentences\")"
   ]
  },
  {
   "cell_type": "code",
   "execution_count": 7,
   "metadata": {
    "collapsed": false
   },
   "outputs": [
    {
     "name": "stdout",
     "output_type": "stream",
     "text": [
      "John\n"
     ]
    }
   ],
   "source": [
    "name=(\"John\",\"jay\",\"chulsoo\",\"yunghee\",\"wonseok\")\n",
    "\n",
    "for i in name:\n",
    "    if i.startswith(\"John\"):\n",
    "        print(i)\n"
   ]
  },
  {
   "cell_type": "code",
   "execution_count": 8,
   "metadata": {
    "collapsed": false
   },
   "outputs": [
    {
     "name": "stdout",
     "output_type": "stream",
     "text": [
      "1\n",
      "2\n",
      "4\n",
      "8\n",
      "16\n",
      "32\n",
      "64\n",
      "128\n",
      "256\n",
      "512\n",
      "1024\n",
      "2048\n",
      "4096\n",
      "8192\n",
      "16384\n",
      "32768\n",
      "65536\n",
      "131072\n",
      "262144\n",
      "524288\n"
     ]
    }
   ],
   "source": [
    "#another example of for statement\n",
    "\n",
    "for i in range(20):\n",
    "    print(2**i)"
   ]
  },
  {
   "cell_type": "code",
   "execution_count": 9,
   "metadata": {
    "collapsed": false
   },
   "outputs": [
    {
     "name": "stdout",
     "output_type": "stream",
     "text": [
      "1\n",
      "2\n",
      "4\n",
      "8\n",
      "16\n",
      "32\n",
      "64\n",
      "128\n",
      "256\n",
      "512\n",
      "1024\n",
      "2048\n",
      "4096\n",
      "8192\n",
      "16384\n",
      "32768\n",
      "65536\n",
      "131072\n",
      "262144\n",
      "524288\n"
     ]
    }
   ],
   "source": [
    "i=0\n",
    "while i <20:\n",
    "    print(2**i)\n",
    "    i+=1"
   ]
  },
  {
   "cell_type": "markdown",
   "metadata": {},
   "source": [
    "### Practice"
   ]
  },
  {
   "cell_type": "code",
   "execution_count": 10,
   "metadata": {
    "collapsed": false
   },
   "outputs": [
    {
     "name": "stdout",
     "output_type": "stream",
     "text": [
      "####### 7\n",
      "########### 11\n",
      "############### 15\n",
      "done\n"
     ]
    }
   ],
   "source": [
    "for i in range(1000):\n",
    "    if i==7:\n",
    "        print(\"#\"*i,i)\n",
    "    elif i==15:\n",
    "        print(\"#\"*i,i)\n",
    "    elif i==11:\n",
    "        print(\"#\"*i,i)\n",
    "        \n",
    "print(\"done\")"
   ]
  },
  {
   "cell_type": "code",
   "execution_count": 11,
   "metadata": {
    "collapsed": false
   },
   "outputs": [
    {
     "name": "stdout",
     "output_type": "stream",
     "text": [
      "####### 7\n",
      "########### 11\n",
      "############### 15\n",
      "############### 28\n",
      "done\n"
     ]
    }
   ],
   "source": [
    "for i in range(1000):\n",
    "    if i==7:\n",
    "        print(\"#\"*i,i)\n",
    "    elif i==15:\n",
    "        print(\"#\"*i,i)\n",
    "    elif i==11:\n",
    "        print(\"#\"*i,i)\n",
    "    elif i==28:\n",
    "        print(\"#\"*15,i)\n",
    "        \n",
    "print(\"done\")"
   ]
  },
  {
   "cell_type": "markdown",
   "metadata": {},
   "source": [
    "### Function"
   ]
  },
  {
   "cell_type": "code",
   "execution_count": 12,
   "metadata": {
    "collapsed": false
   },
   "outputs": [
    {
     "name": "stdout",
     "output_type": "stream",
     "text": [
      "2\n",
      "2\n"
     ]
    }
   ],
   "source": [
    "#Absolute function\n",
    "def abs(x):\n",
    "    if x>=0:\n",
    "        return x\n",
    "    else:\n",
    "        return -x\n",
    "print(abs(-2))\n",
    "print(abs(2))"
   ]
  },
  {
   "cell_type": "code",
   "execution_count": null,
   "metadata": {
    "collapsed": true
   },
   "outputs": [],
   "source": [
    "def sqrt(n):\n",
    "    guess=1.0\n",
    "    while abs(n-guess*guess)>.0001:\n",
    "        guess=guess\n",
    "    return guess\n",
    "\n",
    "sqrt(3)"
   ]
  },
  {
   "cell_type": "code",
   "execution_count": null,
   "metadata": {
    "collapsed": true
   },
   "outputs": [],
   "source": [
    "\n"
   ]
  },
  {
   "cell_type": "code",
   "execution_count": null,
   "metadata": {
    "collapsed": false
   },
   "outputs": [],
   "source": [
    "def sqrt2(n,tolerance):\n",
    "    guess=1.0\n",
    "    while abs(n- guess*guess)> tolerance:\n",
    "        guess= guess- (guess*guess-n)/(2*guess)\n",
    "    return guess\n",
    "\n"
   ]
  },
  {
   "cell_type": "code",
   "execution_count": null,
   "metadata": {
    "collapsed": false
   },
   "outputs": [],
   "source": [
    "sqrt2(3,0.0005)"
   ]
  },
  {
   "cell_type": "code",
   "execution_count": null,
   "metadata": {
    "collapsed": true
   },
   "outputs": [],
   "source": [
    "#method function\n",
    "\n",
    "line.startswith(\"John\")\n",
    "line.split(\",\")\n",
    "line=file.readline()\n",
    "print(\"done\")"
   ]
  },
  {
   "cell_type": "code",
   "execution_count": null,
   "metadata": {
    "collapsed": true
   },
   "outputs": [],
   "source": [
    "def printAverageOfFile(filename):\n",
    "    sum =0\n",
    "    count=0\n",
    "    \n",
    "    file =open(filenname)\n",
    "    for i in file:\n",
    "        n=int(i)\n",
    "        sum +=n\n",
    "        count +=1\n",
    "        \n",
    "    print(\"Average of numbers in \" + fileName + \":\")\n",
    "    print(sum/count)"
   ]
  },
  {
   "cell_type": "code",
   "execution_count": null,
   "metadata": {
    "collapsed": true
   },
   "outputs": [],
   "source": [
    "## Recursive Function\n",
    "\n",
    "def factorial(n):\n",
    "    if n == 1:\n",
    "        return n\n",
    "    else:\n",
    "        return n * fatorial(n-)\n",
    "print(\"made factorial function\")\n"
   ]
  },
  {
   "cell_type": "code",
   "execution_count": null,
   "metadata": {
    "collapsed": true
   },
   "outputs": [],
   "source": [
    "factorial(2)\n"
   ]
  },
  {
   "cell_type": "code",
   "execution_count": null,
   "metadata": {
    "collapsed": false
   },
   "outputs": [],
   "source": [
    "#function as value\n",
    "\n",
    "def square(x):\n",
    "    return x*x\n",
    "\n",
    "squa=square\n",
    "\n"
   ]
  },
  {
   "cell_type": "code",
   "execution_count": null,
   "metadata": {
    "collapsed": true
   },
   "outputs": [],
   "source": [
    "def twice(f,a):\n",
    "    return f(f(a))\n",
    "\n",
    "twince(square,3)"
   ]
  },
  {
   "cell_type": "code",
   "execution_count": null,
   "metadata": {
    "collapsed": false
   },
   "outputs": [],
   "source": [
    "def derivative(f,x,dx):\n",
    "    return (f(x+dx)-f(x))/dx\n",
    "print(\"done\")"
   ]
  },
  {
   "cell_type": "code",
   "execution_count": null,
   "metadata": {
    "collapsed": false
   },
   "outputs": [],
   "source": [
    "derivative(square,4,0.00000001)"
   ]
  },
  {
   "cell_type": "code",
   "execution_count": null,
   "metadata": {
    "collapsed": true
   },
   "outputs": [],
   "source": [
    "def multiplyby(n):\n",
    "    def times(m):\n",
    "        return m*n\n",
    "    return times \n",
    "print(\"done\")"
   ]
  }
 ],
 "metadata": {
  "kernelspec": {
   "display_name": "Python 3",
   "language": "python",
   "name": "python3"
  },
  "language_info": {
   "codemirror_mode": {
    "name": "ipython",
    "version": 3
   },
   "file_extension": ".py",
   "mimetype": "text/x-python",
   "name": "python",
   "nbconvert_exporter": "python",
   "pygments_lexer": "ipython3",
   "version": "3.6.0"
  }
 },
 "nbformat": 4,
 "nbformat_minor": 2
}

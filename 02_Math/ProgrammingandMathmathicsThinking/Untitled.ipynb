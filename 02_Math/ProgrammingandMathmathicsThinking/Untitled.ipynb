{
 "cells": [
  {
   "cell_type": "markdown",
   "metadata": {},
   "source": [
    "### statement"
   ]
  },
  {
   "cell_type": "code",
   "execution_count": null,
   "metadata": {
    "collapsed": false
   },
   "outputs": [
    {
     "name": "stdout",
     "output_type": "stream",
     "text": [
      "28.714285714285715\n"
     ]
    }
   ],
   "source": [
    "file=(1,23,14,23,5,12,123)\n",
    "\n",
    "#fine mean\n",
    "sum=0\n",
    "count=0\n",
    "\n",
    "\n",
    "# Use \"#\" in order to write comment;\n",
    "for line in file:#header \n",
    "\n",
    "    \n",
    "    \n",
    "    \n",
    "    n=int(line)#convert digits to an integer\n",
    "    sum += n\n",
    "    count +=1\n",
    "print(sum/count)"
   ]
  },
  {
   "cell_type": "markdown",
   "metadata": {},
   "source": [
    "### Conditional"
   ]
  },
  {
   "cell_type": "code",
   "execution_count": 2,
   "metadata": {
    "collapsed": false
   },
   "outputs": [
    {
     "name": "stdout",
     "output_type": "stream",
     "text": [
      "wonseok\n",
      "hi hiba\n",
      "joon\n",
      "hee\n"
     ]
    }
   ],
   "source": [
    "# if statement\n",
    "\n",
    "name=(\"wonseok\",\"hiba\",\"joon\",\"hee\")\n",
    "\n",
    "for i in name:\n",
    "    if i==\"hiba\":\n",
    "        print(\"hi hiba\")\n",
    "    else:\n",
    "        print(i)"
   ]
  },
  {
   "cell_type": "code",
   "execution_count": 3,
   "metadata": {
    "collapsed": false
   },
   "outputs": [
    {
     "name": "stdout",
     "output_type": "stream",
     "text": [
      "I will take a \n"
     ]
    }
   ],
   "source": [
    "a=4\n",
    "b=0\n",
    "\n",
    "if a>b:\n",
    "    print(\"I will take a \")\n",
    "else:\n",
    "    print(\"I will take b\")"
   ]
  },
  {
   "cell_type": "code",
   "execution_count": 4,
   "metadata": {
    "collapsed": false
   },
   "outputs": [
    {
     "name": "stdout",
     "output_type": "stream",
     "text": [
      "Above average\n"
     ]
    }
   ],
   "source": [
    "testScore=23\n",
    "medianScore=12\n",
    "\n",
    "if testScore>medianScore:\n",
    "    print(\"Above average\")\n",
    "else:\n",
    "    if testScore == medianScore:\n",
    "        print(\"Average.\")\n",
    "    else:\n",
    "        print(\"Below average\")"
   ]
  },
  {
   "cell_type": "markdown",
   "metadata": {},
   "source": [
    "### iteration"
   ]
  },
  {
   "cell_type": "code",
   "execution_count": 5,
   "metadata": {
    "collapsed": false
   },
   "outputs": [
    {
     "name": "stdout",
     "output_type": "stream",
     "text": [
      "2 to the 0 power is 1\n",
      "2 to the 1 power is 2\n",
      "2 to the 2 power is 4\n",
      "2 to the 3 power is 8\n",
      "2 to the 4 power is 16\n",
      "2 to the 5 power is 32\n",
      "2 to the 6 power is 64\n",
      "2 to the 7 power is 128\n",
      "2 to the 8 power is 256\n",
      "2 to the 9 power is 512\n",
      "2 to the 10 power is 1024\n",
      "2 to the 11 power is 2048\n",
      "2 to the 12 power is 4096\n",
      "2 to the 13 power is 8192\n",
      "2 to the 14 power is 16384\n",
      "2 to the 15 power is 32768\n",
      "2 to the 16 power is 65536\n",
      "2 to the 17 power is 131072\n",
      "2 to the 18 power is 262144\n",
      "2 to the 19 power is 524288\n"
     ]
    }
   ],
   "source": [
    "# for statement\n",
    "\n",
    "for i in range(20):\n",
    "    print(\"2 to the \" + str(i) + \" power is \" +str(2**i))"
   ]
  },
  {
   "cell_type": "code",
   "execution_count": 6,
   "metadata": {
    "collapsed": false
   },
   "outputs": [
    {
     "name": "stdout",
     "output_type": "stream",
     "text": [
      "e\n",
      "o\n",
      "a\n",
      "e\n",
      "i\n",
      "i\n",
      "There are 6 vowels in that sentences\n"
     ]
    }
   ],
   "source": [
    "sentence = \"hello at me swimming\"\n",
    "vowels =0\n",
    "for c in sentence:\n",
    "    if c in \"aeiou\":\n",
    "        vowels+=1\n",
    "        print(c)\n",
    "print(\"There are \" + str(vowels) + \" vowels in that sentences\")"
   ]
  },
  {
   "cell_type": "code",
   "execution_count": 7,
   "metadata": {
    "collapsed": false
   },
   "outputs": [
    {
     "name": "stdout",
     "output_type": "stream",
     "text": [
      "John\n"
     ]
    }
   ],
   "source": [
    "name=(\"John\",\"jay\",\"chulsoo\",\"yunghee\",\"wonseok\")\n",
    "\n",
    "for i in name:\n",
    "    if i.startswith(\"John\"):\n",
    "        print(i)"
   ]
  },
  {
   "cell_type": "code",
   "execution_count": 8,
   "metadata": {
    "collapsed": false
   },
   "outputs": [
    {
     "name": "stdout",
     "output_type": "stream",
     "text": [
      "1\n",
      "2\n",
      "4\n",
      "8\n",
      "16\n",
      "32\n",
      "64\n",
      "128\n",
      "256\n",
      "512\n",
      "1024\n",
      "2048\n",
      "4096\n",
      "8192\n",
      "16384\n",
      "32768\n",
      "65536\n",
      "131072\n",
      "262144\n",
      "524288\n"
     ]
    }
   ],
   "source": [
    "#another example of for statement\n",
    "\n",
    "for i in range(20):\n",
    "    print(2**i)"
   ]
  },
  {
   "cell_type": "code",
   "execution_count": 9,
   "metadata": {
    "collapsed": false
   },
   "outputs": [
    {
     "name": "stdout",
     "output_type": "stream",
     "text": [
      "1\n",
      "2\n",
      "4\n",
      "8\n",
      "16\n",
      "32\n",
      "64\n",
      "128\n",
      "256\n",
      "512\n",
      "1024\n",
      "2048\n",
      "4096\n",
      "8192\n",
      "16384\n",
      "32768\n",
      "65536\n",
      "131072\n",
      "262144\n",
      "524288\n"
     ]
    }
   ],
   "source": [
    "i=0\n",
    "while i <20:\n",
    "    print(2**i)\n",
    "    i+=1"
   ]
  },
  {
   "cell_type": "markdown",
   "metadata": {},
   "source": [
    "### Practice"
   ]
  },
  {
   "cell_type": "code",
   "execution_count": 10,
   "metadata": {
    "collapsed": false
   },
   "outputs": [
    {
     "name": "stdout",
     "output_type": "stream",
     "text": [
      "####### 7\n",
      "########### 11\n",
      "############### 15\n",
      "done\n"
     ]
    }
   ],
   "source": [
    "for i in range(1000):\n",
    "    if i==7:\n",
    "        print(\"#\"*i,i)\n",
    "    elif i==15:\n",
    "        print(\"#\"*i,i)\n",
    "    elif i==11:\n",
    "        print(\"#\"*i,i)\n",
    "        \n",
    "print(\"done\")"
   ]
  },
  {
   "cell_type": "code",
   "execution_count": 11,
   "metadata": {
    "collapsed": false
   },
   "outputs": [
    {
     "name": "stdout",
     "output_type": "stream",
     "text": [
      "####### 7\n",
      "########### 11\n",
      "############### 15\n",
      "############### 28\n",
      "done\n"
     ]
    }
   ],
   "source": [
    "for i in range(1000):\n",
    "    if i==7:\n",
    "        print(\"#\"*i,i)\n",
    "    elif i==15:\n",
    "        print(\"#\"*i,i)\n",
    "    elif i==11:\n",
    "        print(\"#\"*i,i)\n",
    "    elif i==28:\n",
    "        print(\"#\"*15,i)\n",
    "        \n",
    "print(\"done\")"
   ]
  },
  {
   "cell_type": "markdown",
   "metadata": {},
   "source": [
    "### Function"
   ]
  },
  {
   "cell_type": "code",
   "execution_count": 12,
   "metadata": {
    "collapsed": false
   },
   "outputs": [
    {
     "name": "stdout",
     "output_type": "stream",
     "text": [
      "2\n",
      "2\n"
     ]
    }
   ],
   "source": [
    "#Absolute function\n",
    "def abs(x):\n",
    "    if x>=0:\n",
    "        return x\n",
    "    else:\n",
    "        return -x\n",
    "print(abs(-2))\n",
    "print(abs(2))"
   ]
  },
  {
   "cell_type": "code",
   "execution_count": 13,
   "metadata": {
    "collapsed": false
   },
   "outputs": [
    {
     "name": "stdout",
     "output_type": "stream",
     "text": [
      "done\n"
     ]
    }
   ],
   "source": [
    "def sqrt(n):\n",
    "    guess=1.0\n",
    "    while abs(n-guess*guess)>.0001:\n",
    "        guess=guess\n",
    "    return guess\n",
    "\n",
    "print(\"done\")"
   ]
  },
  {
   "cell_type": "code",
   "execution_count": 14,
   "metadata": {
    "collapsed": false
   },
   "outputs": [],
   "source": [
    "def sqrt2(n,tolerance):\n",
    "    guess=1.0\n",
    "    while abs(n- guess*guess)> tolerance:\n",
    "        guess= guess- (guess*guess-n)/(2*guess)\n",
    "    return guess"
   ]
  },
  {
   "cell_type": "code",
   "execution_count": 20,
   "metadata": {
    "collapsed": false
   },
   "outputs": [
    {
     "data": {
      "text/plain": [
       "1.7321428571428572"
      ]
     },
     "execution_count": 20,
     "metadata": {},
     "output_type": "execute_result"
    }
   ],
   "source": [
    "sqrt2(3,0.0005)"
   ]
  },
  {
   "cell_type": "markdown",
   "metadata": {
    "collapsed": false
   },
   "source": [
    "#method function\n",
    "line={\"Jone\",\"asdas\"}\n",
    "line.startswith(\"John\")\n",
    "line.split(\",\")\n",
    "line=file.readline()\n",
    "print(\"done\")"
   ]
  },
  {
   "cell_type": "code",
   "execution_count": 21,
   "metadata": {
    "collapsed": true
   },
   "outputs": [],
   "source": [
    "def printAverageOfFile(filename):\n",
    "    sum =0\n",
    "    count=0\n",
    "    \n",
    "    file =open(filenname)\n",
    "    for i in file:\n",
    "        n=int(i)\n",
    "        sum +=n\n",
    "        count +=1\n",
    "        \n",
    "    print(\"Average of numbers in \" + fileName + \":\")\n",
    "    print(sum/count)"
   ]
  },
  {
   "cell_type": "code",
   "execution_count": 29,
   "metadata": {
    "collapsed": false
   },
   "outputs": [
    {
     "name": "stdout",
     "output_type": "stream",
     "text": [
      "made factorial function\n"
     ]
    }
   ],
   "source": [
    "## Recursive Function\n",
    "\n",
    "def factorial(n):\n",
    "    if n == 1:\n",
    "        return n\n",
    "    else:\n",
    "        return n * factorial(-n)\n",
    "print(\"made factorial function\")"
   ]
  },
  {
   "cell_type": "code",
   "execution_count": 30,
   "metadata": {
    "collapsed": false
   },
   "outputs": [
    {
     "ename": "RecursionError",
     "evalue": "maximum recursion depth exceeded in comparison",
     "traceback": [
      "\u001b[0;31m---------------------------------------------------------------------------\u001b[0m",
      "\u001b[0;31mRecursionError\u001b[0m                            Traceback (most recent call last)",
      "\u001b[0;32m<ipython-input-30-21ad3053ce9b>\u001b[0m in \u001b[0;36m<module>\u001b[0;34m()\u001b[0m\n\u001b[0;32m----> 1\u001b[0;31m \u001b[0mfactorial\u001b[0m\u001b[0;34m(\u001b[0m\u001b[0;36m2\u001b[0m\u001b[0;34m)\u001b[0m\u001b[0;34m\u001b[0m\u001b[0m\n\u001b[0m",
      "\u001b[0;32m<ipython-input-29-76749d9126f7>\u001b[0m in \u001b[0;36mfactorial\u001b[0;34m(n)\u001b[0m\n\u001b[1;32m      5\u001b[0m         \u001b[0;32mreturn\u001b[0m \u001b[0mn\u001b[0m\u001b[0;34m\u001b[0m\u001b[0m\n\u001b[1;32m      6\u001b[0m     \u001b[0;32melse\u001b[0m\u001b[0;34m:\u001b[0m\u001b[0;34m\u001b[0m\u001b[0m\n\u001b[0;32m----> 7\u001b[0;31m         \u001b[0;32mreturn\u001b[0m \u001b[0mn\u001b[0m \u001b[0;34m*\u001b[0m \u001b[0mfactorial\u001b[0m\u001b[0;34m(\u001b[0m\u001b[0;34m-\u001b[0m\u001b[0mn\u001b[0m\u001b[0;34m)\u001b[0m\u001b[0;34m\u001b[0m\u001b[0m\n\u001b[0m\u001b[1;32m      8\u001b[0m \u001b[0mprint\u001b[0m\u001b[0;34m(\u001b[0m\u001b[0;34m\"made factorial function\"\u001b[0m\u001b[0;34m)\u001b[0m\u001b[0;34m\u001b[0m\u001b[0m\n",
      "... last 1 frames repeated, from the frame below ...\n",
      "\u001b[0;32m<ipython-input-29-76749d9126f7>\u001b[0m in \u001b[0;36mfactorial\u001b[0;34m(n)\u001b[0m\n\u001b[1;32m      5\u001b[0m         \u001b[0;32mreturn\u001b[0m \u001b[0mn\u001b[0m\u001b[0;34m\u001b[0m\u001b[0m\n\u001b[1;32m      6\u001b[0m     \u001b[0;32melse\u001b[0m\u001b[0;34m:\u001b[0m\u001b[0;34m\u001b[0m\u001b[0m\n\u001b[0;32m----> 7\u001b[0;31m         \u001b[0;32mreturn\u001b[0m \u001b[0mn\u001b[0m \u001b[0;34m*\u001b[0m \u001b[0mfactorial\u001b[0m\u001b[0;34m(\u001b[0m\u001b[0;34m-\u001b[0m\u001b[0mn\u001b[0m\u001b[0;34m)\u001b[0m\u001b[0;34m\u001b[0m\u001b[0m\n\u001b[0m\u001b[1;32m      8\u001b[0m \u001b[0mprint\u001b[0m\u001b[0;34m(\u001b[0m\u001b[0;34m\"made factorial function\"\u001b[0m\u001b[0;34m)\u001b[0m\u001b[0;34m\u001b[0m\u001b[0m\n",
      "\u001b[0;31mRecursionError\u001b[0m: maximum recursion depth exceeded in comparison"
     ],
     "output_type": "error"
    }
   ],
   "source": [
    "factorial(2)"
   ]
  },
  {
   "cell_type": "code",
   "execution_count": 32,
   "metadata": {
    "collapsed": false
   },
   "outputs": [],
   "source": [
    "#function as value\n",
    "\n",
    "def square(x):\n",
    "    return x*x\n",
    "\n",
    "squa=square"
   ]
  },
  {
   "cell_type": "code",
   "execution_count": 34,
   "metadata": {
    "collapsed": false
   },
   "outputs": [
    {
     "data": {
      "text/plain": [
       "81"
      ]
     },
     "execution_count": 34,
     "metadata": {},
     "output_type": "execute_result"
    }
   ],
   "source": [
    "def twice(f,a):\n",
    "    return f(f(a))\n",
    "\n",
    "twice(square,3)"
   ]
  },
  {
   "cell_type": "code",
   "execution_count": 35,
   "metadata": {
    "collapsed": false
   },
   "outputs": [
    {
     "name": "stdout",
     "output_type": "stream",
     "text": [
      "done\n"
     ]
    }
   ],
   "source": [
    "def derivative(f,x,dx):\n",
    "    return (f(x+dx)-f(x))/dx\n",
    "print(\"done\")"
   ]
  },
  {
   "cell_type": "code",
   "execution_count": 36,
   "metadata": {
    "collapsed": false
   },
   "outputs": [
    {
     "data": {
      "text/plain": [
       "7.999999951380232"
      ]
     },
     "execution_count": 36,
     "metadata": {},
     "output_type": "execute_result"
    }
   ],
   "source": [
    "derivative(square,4,0.00000001)"
   ]
  },
  {
   "cell_type": "code",
   "execution_count": 37,
   "metadata": {
    "collapsed": false
   },
   "outputs": [
    {
     "name": "stdout",
     "output_type": "stream",
     "text": [
      "done\n"
     ]
    }
   ],
   "source": [
    "def multiplyby(n):\n",
    "    def times(m):\n",
    "        return m*n\n",
    "    return times \n",
    "print(\"done\")"
   ]
  },
  {
   "cell_type": "code",
   "execution_count": 38,
   "metadata": {
    "collapsed": false
   },
   "outputs": [
    {
     "data": {
      "text/plain": [
       "<function __main__.<lambda>>"
      ]
     },
     "execution_count": 38,
     "metadata": {},
     "output_type": "execute_result"
    }
   ],
   "source": [
    "#Lambda expression\n",
    "\n",
    "def square(x):\n",
    "    return x*x \n",
    "\n",
    "# I can express this as \n",
    "\n",
    "lambda x: x*x"
   ]
  },
  {
   "cell_type": "markdown",
   "metadata": {},
   "source": [
    "### Tuple\n"
   ]
  },
  {
   "cell_type": "code",
   "execution_count": 42,
   "metadata": {
    "collapsed": false
   },
   "outputs": [
    {
     "name": "stdout",
     "output_type": "stream",
     "text": [
      "(4, 5)\n",
      "(4, 5)\n",
      "('This', 2, 'is', 4, False)\n",
      "('This', 2, 'is', 4, True)\n"
     ]
    }
   ],
   "source": [
    "#example of tuple and 4th tuple\n",
    "\n",
    "pair = 4,5\n",
    "pair_p=(4,5)\n",
    "f_tuple=\"This\",2,\"is\",4, False\n",
    "f_tuple_p=(\"This\",2,\"is\",4, True)\n",
    "\n",
    "print(pair)\n",
    "print(pair_p)\n",
    "print(f_tuple)\n",
    "print(f_tuple_p)"
   ]
  },
  {
   "cell_type": "code",
   "execution_count": 49,
   "metadata": {
    "collapsed": true
   },
   "outputs": [],
   "source": [
    "a=1\n",
    "b=2\n",
    "a,b=b,a"
   ]
  },
  {
   "cell_type": "code",
   "execution_count": 50,
   "metadata": {
    "collapsed": false
   },
   "outputs": [
    {
     "name": "stdout",
     "output_type": "stream",
     "text": [
      "2\n",
      "1\n"
     ]
    }
   ],
   "source": [
    "print(a)\n",
    "print(b)"
   ]
  },
  {
   "cell_type": "code",
   "execution_count": 51,
   "metadata": {
    "collapsed": false,
    "scrolled": true
   },
   "outputs": [
    {
     "name": "stdout",
     "output_type": "stream",
     "text": [
      "12\n",
      "25\n",
      "83\n"
     ]
    }
   ],
   "source": [
    "#Use tuple in math\n",
    "\n",
    "z=(12,25,83)\n",
    "\n",
    "print(z[0])\n",
    "print(z[1])\n",
    "print(z[2])"
   ]
  },
  {
   "cell_type": "markdown",
   "metadata": {},
   "source": [
    "### List\n",
    "    \n",
    "    "
   ]
  },
  {
   "cell_type": "code",
   "execution_count": 1,
   "metadata": {
    "collapsed": false
   },
   "outputs": [
    {
     "name": "stdout",
     "output_type": "stream",
     "text": [
      "before append a is  [12, 3, 4, 5]\n4\nNone\n3\nerror\n"
     ]
    }
   ],
   "source": [
    "#list is changeable\n",
    "\n",
    "a=[12,3,4,5]\n",
    "print(\"before append\",\"a is \",a)\n",
    "print(a[2])\n",
    "print(a.append(\"Asdasd\"))\n",
    "\n",
    "#but tuple is not\n",
    "\n",
    "      \n",
    "b=(1,2,3,1,2,3,12,3,14)\n",
    "\n",
    "print(b[2])\n",
    "\n",
    "print(\"error\")\n",
    "\n",
    "#print(b.append(\"asdasd\"))"
   ]
  },
  {
   "cell_type": "code",
   "execution_count": 2,
   "metadata": {
    "collapsed": false
   },
   "outputs": [],
   "source": [
    "#for statement is working on the sequence\n",
    "\n",
    "for place in (\"London\", \"Paris\", \"Istanbul\"):\n",
    "    print(\"Hello from\"+ place + \"!\")"
   ]
  },
  {
   "cell_type": "markdown",
   "metadata": {},
   "source": [
    "###  High-Order-Function"
   ]
  },
  {
   "cell_type": "code",
   "execution_count": 3,
   "metadata": {
    "collapsed": false
   },
   "outputs": [],
   "source": [
    "# Map\n",
    "\n",
    "#map(f,sequence)\n",
    "\n",
    "#1.making a function\n",
    "\n",
    "def map_test(x):\n",
    "    return x+3\n",
    "\n",
    "#2.set sequence\n",
    "\n",
    "map_sequence=(1,2,3,4,5)\n",
    "\n",
    "o=(map(map_test,map_sequence))\n",
    "\n",
    "print(o)"
   ]
  },
  {
   "cell_type": "code",
   "execution_count": 19,
   "metadata": {
    "collapsed": true
   },
   "outputs": [],
   "source": [
    "def map(f, sequence):\n",
    "    result = ()\n",
    "    for a in sequence:\n",
    "        result += (f(a),)\n",
    "    return result"
   ]
  },
  {
   "cell_type": "code",
   "execution_count": 4,
   "metadata": {},
   "outputs": [
    {
     "name": "stdout",
     "output_type": "stream",
     "text": [
      "sdfaf\n"
     ]
    }
   ],
   "source": [
    "print(\"sdfaf\")"
   ]
  }
 ],
 "metadata": {
  "kernelspec": {
   "display_name": "Python 3",
   "language": "python",
   "name": "python3"
  },
  "language_info": {
   "codemirror_mode": {
    "name": "ipython",
    "version": 3.0
   },
   "file_extension": ".py",
   "mimetype": "text/x-python",
   "name": "python",
   "nbconvert_exporter": "python",
   "pygments_lexer": "ipython3",
   "version": "3.6.0"
  }
 },
 "nbformat": 4,
 "nbformat_minor": 0
}
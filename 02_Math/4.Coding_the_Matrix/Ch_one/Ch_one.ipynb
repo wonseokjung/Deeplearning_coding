{
 "cells": [
  {
   "cell_type": "code",
   "execution_count": 21,
   "metadata": {
    "collapsed": true
   },
   "outputs": [],
   "source": [
    "from plotting import plot"
   ]
  },
  {
   "cell_type": "code",
   "execution_count": 22,
   "metadata": {},
   "outputs": [
    {
     "data": {
      "text/plain": [
       "1.4142135623730951"
      ]
     },
     "execution_count": 22,
     "metadata": {},
     "output_type": "execute_result"
    }
   ],
   "source": [
    "abs(3+4j)\n",
    "abs(1+1j)"
   ]
  },
  {
   "cell_type": "code",
   "execution_count": 23,
   "metadata": {},
   "outputs": [
    {
     "data": {
      "text/plain": [
       "(3-4j)"
      ]
     },
     "execution_count": 23,
     "metadata": {},
     "output_type": "execute_result"
    }
   ],
   "source": [
    "#the conjugate oif a complex number z, wrttien -z(bar on the z) is defined as z.real -z.imag.\n",
    "#z.conjugate()\n",
    "                                                                                                    \n",
    "\n",
    "(3+4j).conjugate()"
   ]
  },
  {
   "cell_type": "markdown",
   "metadata": {},
   "source": [
    "Task 1.4.1: First assign to the variable S a list or set consisting of the complex numbers listeed above.,"
   ]
  },
  {
   "cell_type": "code",
   "execution_count": 24,
   "metadata": {
    "collapsed": true
   },
   "outputs": [],
   "source": [
    "from plotting import plot\n"
   ]
  },
  {
   "cell_type": "code",
   "execution_count": 25,
   "metadata": {},
   "outputs": [
    {
     "ename": "SyntaxError",
     "evalue": "invalid syntax (<ipython-input-25-d6b4e7e205cd>, line 1)",
     "output_type": "error",
     "traceback": [
      "\u001b[1;36m  File \u001b[1;32m\"<ipython-input-25-d6b4e7e205cd>\"\u001b[1;36m, line \u001b[1;32m1\u001b[0m\n\u001b[1;33m    2i\u001b[0m\n\u001b[1;37m     ^\u001b[0m\n\u001b[1;31mSyntaxError\u001b[0m\u001b[1;31m:\u001b[0m invalid syntax\n"
     ]
    }
   ],
   "source": [
    "S=[2+2j,3+2j,1.16+1j,2+1j,2.25+1j,2.5+1j, 2.75+1j, 3+1j , 3.25 + 1j]"
   ]
  },
  {
   "cell_type": "code",
   "execution_count": null,
   "metadata": {
    "collapsed": true
   },
   "outputs": [],
   "source": []
  },
  {
   "cell_type": "markdown",
   "metadata": {},
   "source": [
    "# 1.4.2 Adding complex numbers\n",
    "\n",
    "Suppose we add a complex number, say 1+2i, to each complex number z in S. That is, we derive a new set by applying the following function to each element of S:\n",
    "\n",
    "f(z) = 1+ 2i  +z\n",
    "\n",
    "This function increases each real coordinate (the x coordinate) by 1 and increases each imaginary coordinate ( the y coordinate ) by 2.\n",
    "This transformation of the numbers in S is called a translation. A translation has the form\n",
    "\n",
    "f(z) = z0 + z\n",
    "\n",
    "Where z0 is a complex number. Translation can take the picture anywhere in the complex plane.\n",
    "For example, adding a number z0 whose real coordinate is negative would have the effect of translating the picture to the left. "
   ]
  },
  {
   "cell_type": "markdown",
   "metadata": {},
   "source": [
    "Take 1.4.3: Create a new plot using a comprehension to provide a set of points derived from S by adding 1+2i to eachL:\n",
    "    "
   ]
  },
  {
   "cell_type": "code",
   "execution_count": null,
   "metadata": {},
   "outputs": [],
   "source": [
    "#plot({1+2j+z for z in S}, 4)"
   ]
  },
  {
   "cell_type": "markdown",
   "metadata": {},
   "source": [
    "### Complex numbers and arrows\n",
    "\n",
    "It is helpful to visulaize a translation f(z) by an arrow. The tail of the arrow is located at any point z in the complex plane; the head of the arrow is then located at the point f(z), the translation of z. Of course, thius reresentation is not unique.\n",
    "Since a tranlation has the form f(z) = z0+z, we represent the translation by the complex number z0. It is therefore appropriate to represent the complex number z0 by an arrow.\n",
    "\n",
    "Again, the representation is not unique. For example, the vector z0=5-2i\n",
    "can be represented by an arrow whose tail is at 0+0i and whose head is at 5-2i, or one whose tail is at 1+1i and whose head is at 6-1i......."
   ]
  },
  {
   "cell_type": "code",
   "execution_count": 35,
   "metadata": {},
   "outputs": [],
   "source": []
  },
  {
   "cell_type": "code",
   "execution_count": null,
   "metadata": {
    "collapsed": true
   },
   "outputs": [],
   "source": []
  },
  {
   "cell_type": "code",
   "execution_count": null,
   "metadata": {
    "collapsed": true
   },
   "outputs": [],
   "source": []
  },
  {
   "cell_type": "code",
   "execution_count": null,
   "metadata": {
    "collapsed": true
   },
   "outputs": [],
   "source": []
  },
  {
   "cell_type": "code",
   "execution_count": null,
   "metadata": {
    "collapsed": true
   },
   "outputs": [],
   "source": []
  }
 ],
 "metadata": {
  "kernelspec": {
   "display_name": "Python 3",
   "language": "python",
   "name": "python3"
  },
  "language_info": {
   "codemirror_mode": {
    "name": "ipython",
    "version": 3
   },
   "file_extension": ".py",
   "mimetype": "text/x-python",
   "name": "python",
   "nbconvert_exporter": "python",
   "pygments_lexer": "ipython3",
   "version": "3.5.3"
  }
 },
 "nbformat": 4,
 "nbformat_minor": 1
}

{
 "cells": [
  {
   "cell_type": "code",
   "execution_count": 14,
   "metadata": {
    "collapsed": true
   },
   "outputs": [],
   "source": [
    "import tensorflow as tf\n",
    "import numpy as np\n",
    "import matplotlib.pyplot as plt\n",
    "from tensorflow.examples.tutorials.mnist import input_data\n",
    "\n"
   ]
  },
  {
   "cell_type": "markdown",
   "metadata": {},
   "source": [
    "# Load data from tutorials mnist"
   ]
  },
  {
   "cell_type": "code",
   "execution_count": 15,
   "metadata": {
    "collapsed": false
   },
   "outputs": [
    {
     "name": "stdout",
     "output_type": "stream",
     "text": [
      "Extracting data/train-images-idx3-ubyte.gz\n",
      "Extracting data/train-labels-idx1-ubyte.gz\n",
      "Extracting data/t10k-images-idx3-ubyte.gz\n",
      "Extracting data/t10k-labels-idx1-ubyte.gz\n"
     ]
    }
   ],
   "source": [
    "mnist=input_data.read_data_sets('data/', one_hot=True)\n"
   ]
  },
  {
   "cell_type": "code",
   "execution_count": 16,
   "metadata": {
    "collapsed": false
   },
   "outputs": [
    {
     "name": "stdout",
     "output_type": "stream",
     "text": [
      "Done setting\n"
     ]
    }
   ],
   "source": [
    "hidden1=256\n",
    "hidden2=128\n",
    "\n",
    "n_input=784\n",
    "classes=10\n",
    "# set input and output\n",
    "x=tf.placeholder(\"float\",[None, n_input])#input\n",
    "y=tf.placeholder(\"float\",[None, classes])#output\n",
    "\n",
    "#parameter \n",
    "\n",
    "weights={\n",
    "    'hidden_1':tf.Variable(tf.random_normal([n_input, hidden1], stddev=0.1)),\n",
    "    'hidden_2':tf.Variable(tf.random_normal([hidden1,hidden2],stddev=0.1)),\n",
    "    'output':tf.Variable(tf.random_normal([hidden2,classes],stddev=0.1))\n",
    "}\n",
    "\n",
    "bias= {'b1':tf.Variable(tf.random_normal([hidden1])),\n",
    "      'b2':tf.Variable(tf.random_normal([hidden2])),\n",
    "       'out':tf.Variable(tf.random_normal([classes]))\n",
    "      }\n",
    "\n",
    "print(\"Done setting\")\n"
   ]
  },
  {
   "cell_type": "code",
   "execution_count": 17,
   "metadata": {
    "collapsed": false
   },
   "outputs": [],
   "source": [
    "#set sigmoid at the end of the each hidden layer\n",
    "\n",
    "def apply_sigmoid(_input,_weights,biases):\n",
    "    layer1=tf.nn.sigmoid(tf.add(tf.matmul(_input,_weights['hidden_1']),biases['b1']))\n",
    "    layer2=tf.nn.sigmoid(tf.add(tf.matmul(layer1,_weights['hidden_2']),biases['b2']))\n",
    "    _out=(tf.matmul(layer2,_weights['output']))+biases['out']\n",
    "    return _out\n",
    "    \n",
    "    \n",
    "\n",
    "    "
   ]
  },
  {
   "cell_type": "code",
   "execution_count": 18,
   "metadata": {
    "collapsed": false
   },
   "outputs": [
    {
     "name": "stdout",
     "output_type": "stream",
     "text": [
      "Tensor(\"add_2:0\", shape=(?, 10), dtype=float32)\n"
     ]
    }
   ],
   "source": [
    "#define functions\n",
    "\n",
    "prediction=apply_sigmoid(x,weights,bias)\n",
    "\n",
    "print(prediction)\n",
    "\n",
    "\n",
    "#cost\n",
    "cost = tf.reduce_mean((prediction,y)) #both prediction and y are 10\n",
    "\n",
    "#using gradient descent optimizer, minize the cost\n",
    "#optm=tf.train.GradientDescentOptimizer(learning_rate=0.001).minimize(cost)\n",
    "#Using AdamOpt\n",
    "\n",
    "optm=tf.train.AdamOptimizer(learning_rate=0.001).minimize(cost)\n",
    "corr=tf.equal(tf.argmax(prediction,1), tf.argmax(y,1))\n",
    "\n",
    "accr=tf.reduce_mean(tf.cast(corr,\"float\"))\n",
    "\n",
    "init=tf.global_variables_initializer()"
   ]
  },
  {
   "cell_type": "code",
   "execution_count": 19,
   "metadata": {
    "collapsed": false
   },
   "outputs": [
    {
     "name": "stdout",
     "output_type": "stream",
     "text": [
      "Epoch: 003/ 020 cost : -109.547859999\n",
      "Train accuracy:0.100\n",
      "Test accruacy:0.097\n",
      "Epoch: 007/ 020 cost : -239.912636225\n",
      "Train accuracy:0.110\n",
      "Test accruacy:0.097\n",
      "Epoch: 011/ 020 cost : -369.523316662\n",
      "Train accuracy:0.170\n",
      "Test accruacy:0.097\n",
      "Epoch: 015/ 020 cost : -499.817204642\n",
      "Train accuracy:0.110\n",
      "Test accruacy:0.097\n",
      "Epoch: 019/ 020 cost : -630.868425253\n",
      "Train accuracy:0.100\n",
      "Test accruacy:0.097\n",
      "done\n"
     ]
    }
   ],
   "source": [
    "#Run\n",
    "\n",
    "#parameters\n",
    "\n",
    "epochs=20\n",
    "batch_size=100\n",
    "display_step=4\n",
    "\n",
    "#initialize\n",
    "sess=tf.Session()\n",
    "sess.run(init)\n",
    "\n",
    "#optimize\n",
    "avg_cost=0\n",
    "\n",
    "for epoch in range(epochs):\n",
    "    average_cost=0.\n",
    "    total_batch=int(mnist.train.num_examples/batch_size)\n",
    "    \n",
    "    for i in range(total_batch):\n",
    "        batch_xs,batch_ys= mnist.train.next_batch(batch_size)\n",
    "        feeds={x: batch_xs,y:batch_ys}\n",
    "        sess.run(optm,feed_dict=feeds)\n",
    "        avg_cost += sess.run(cost,feed_dict=feeds)\n",
    "    avg_cost = avg_cost / total_batch\n",
    "    \n",
    "    #display\n",
    "    if (epoch+1) % display_step==0:\n",
    "        print(\"Epoch: %03d/ %03d cost : %.9f\" %(epoch, epochs, avg_cost))\n",
    "        feeds={x:batch_xs, y:batch_ys}\n",
    "        train_acc=sess.run(accr,feed_dict=feeds)\n",
    "        print(\"Train accuracy:%.3f\"% (train_acc))\n",
    "        feeds={x:mnist.test.images, y:mnist.test.labels} \n",
    "        test_acc= sess.run(accr, feed_dict=feeds)\n",
    "        print (\"Test accruacy:%.3f\"%(test_acc))\n",
    "\n",
    "print(\"done\")\n",
    "        "
   ]
  },
  {
   "cell_type": "code",
   "execution_count": null,
   "metadata": {
    "collapsed": true
   },
   "outputs": [],
   "source": []
  }
 ],
 "metadata": {
  "kernelspec": {
   "display_name": "Python 3",
   "language": "python",
   "name": "python3"
  },
  "language_info": {
   "codemirror_mode": {
    "name": "ipython",
    "version": 3
   },
   "file_extension": ".py",
   "mimetype": "text/x-python",
   "name": "python",
   "nbconvert_exporter": "python",
   "pygments_lexer": "ipython3",
   "version": "3.6.0"
  }
 },
 "nbformat": 4,
 "nbformat_minor": 2
}

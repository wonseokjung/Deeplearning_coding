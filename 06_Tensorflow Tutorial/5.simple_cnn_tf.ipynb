{
 "cells": [
  {
   "cell_type": "code",
   "execution_count": 4,
   "metadata": {
    "collapsed": false
   },
   "outputs": [
    {
     "name": "stdout",
     "output_type": "stream",
     "text": [
      "done to import\n"
     ]
    }
   ],
   "source": [
    "import numpy as np\n",
    "\n",
    "\n",
    "import tensorflow as tf\n",
    "import numpy as np\n",
    "from tensorflow.examples.tutorials.mnist import input_data\n",
    "\n",
    "print(\"done to import\")"
   ]
  },
  {
   "cell_type": "code",
   "execution_count": 5,
   "metadata": {
    "collapsed": false
   },
   "outputs": [
    {
     "name": "stdout",
     "output_type": "stream",
     "text": [
      "Extracting data/train-images-idx3-ubyte.gz\n",
      "Extracting data/train-labels-idx1-ubyte.gz\n",
      "Extracting data/t10k-images-idx3-ubyte.gz\n",
      "Extracting data/t10k-labels-idx1-ubyte.gz\n",
      "mno\n"
     ]
    }
   ],
   "source": [
    "mnist=input_data.read_data_sets('data/',one_hot=True)\n",
    "trainimg=mnist.train.images\n",
    "trainimg=mnist.train.images\n",
    "trainlabel=mnist.test.labels\n",
    "print(\"mno\")\n"
   ]
  },
  {
   "cell_type": "code",
   "execution_count": 7,
   "metadata": {
    "collapsed": false
   },
   "outputs": [
    {
     "name": "stdout",
     "output_type": "stream",
     "text": [
      "device slect done\n"
     ]
    }
   ],
   "source": [
    "device_type=\"/cpu:1\"\n",
    "\n",
    "print(\"device slect done\")"
   ]
  },
  {
   "cell_type": "code",
   "execution_count": 11,
   "metadata": {
    "collapsed": false
   },
   "outputs": [
    {
     "ename": "SyntaxError",
     "evalue": "invalid syntax (<ipython-input-11-1c9e55734e22>, line 18)",
     "output_type": "error",
     "traceback": [
      "\u001b[0;36m  File \u001b[0;32m\"<ipython-input-11-1c9e55734e22>\"\u001b[0;36m, line \u001b[0;32m18\u001b[0m\n\u001b[0;31m    _input_r=tf.\u001b[0m\n\u001b[0m                ^\u001b[0m\n\u001b[0;31mSyntaxError\u001b[0m\u001b[0;31m:\u001b[0m invalid syntax\n"
     ]
    }
   ],
   "source": [
    "#define CNN\n",
    "\n",
    "with tf.device(device_type): #optional\n",
    "    n_input=784\n",
    "    n_out=10\n",
    "    weights={\n",
    "        'wc1':tf.Variable(tf.random_normal([3,3,1,64],stddev=0.1)),\n",
    "        'wd1':tf.Variable(tf.random_normal([14*14*64,n_output],stddev=0.1)),    \n",
    "    }\n",
    "    biases={\n",
    "        \n",
    "        'bc1':tf.Variable(tf.random_normal([64],stddev=0.1)),\n",
    "        'bd2':tf.Varaible(tf.random_normal([n_out],st))\n",
    "    }\n",
    "    \n",
    "    def cov_simple(_input, _w, _b):\n",
    "        #reshape input\n",
    "        _input_r=tf.reshape(_input, shape=[-1,28,28,1])\n",
    "        #convolution\n",
    "        _conv1= tf.nn.conv2d(_input_r, _)\n",
    "    "
   ]
  },
  {
   "cell_type": "code",
   "execution_count": null,
   "metadata": {
    "collapsed": true
   },
   "outputs": [],
   "source": []
  },
  {
   "cell_type": "code",
   "execution_count": null,
   "metadata": {
    "collapsed": true
   },
   "outputs": [],
   "source": [
    "    "
   ]
  }
 ],
 "metadata": {
  "kernelspec": {
   "display_name": "Python 3",
   "language": "python",
   "name": "python3"
  },
  "language_info": {
   "codemirror_mode": {
    "name": "ipython",
    "version": 3
   },
   "file_extension": ".py",
   "mimetype": "text/x-python",
   "name": "python",
   "nbconvert_exporter": "python",
   "pygments_lexer": "ipython3",
   "version": "3.6.0"
  }
 },
 "nbformat": 4,
 "nbformat_minor": 2
}

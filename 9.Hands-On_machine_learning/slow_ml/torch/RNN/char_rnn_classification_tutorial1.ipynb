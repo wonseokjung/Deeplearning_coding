{
 "cells": [
  {
   "cell_type": "code",
   "execution_count": 1,
   "metadata": {
    "collapsed": true
   },
   "outputs": [],
   "source": [
    "%matplotlib inline"
   ]
  },
  {
   "cell_type": "markdown",
   "metadata": {},
   "source": [
    "\n",
    "Classifying Names with a Character-Level RNN\n",
    "*********************************************\n",
    "**Author**: `Sean Robertson <https://github.com/spro/practical-pytorch>`_\n",
    "\n",
    "We will be building and training a basic character-level RNN to classify\n",
    "words. A character-level RNN reads words as a series of characters -\n",
    "outputting a prediction and \"hidden state\" at each step, feeding its\n",
    "previous hidden state into each next step. We take the final prediction\n",
    "to be the output, i.e. which class the word belongs to.\n",
    "\n",
    "Specifically, we'll train on a few thousand surnames from 18 languages\n",
    "of origin, and predict which language a name is from based on the\n",
    "spelling:\n",
    "\n",
    "::\n",
    "\n",
    "    $ python predict.py Hinton\n",
    "    (-0.47) Scottish\n",
    "    (-1.52) English\n",
    "    (-3.57) Irish\n",
    "\n",
    "    $ python predict.py Schmidhuber\n",
    "    (-0.19) German\n",
    "    (-2.48) Czech\n",
    "    (-2.68) Dutch\n",
    "\n",
    "\n",
    "**Recommended Reading:**\n",
    "\n",
    "I assume you have at least installed PyTorch, know Python, and\n",
    "understand Tensors:\n",
    "\n",
    "-  http://pytorch.org/ For installation instructions\n",
    "-  :doc:`/beginner/deep_learning_60min_blitz` to get started with PyTorch in general\n",
    "-  :doc:`/beginner/pytorch_with_examples` for a wide and deep overview\n",
    "-  :doc:`/beginner/former_torchies_tutorial` if you are former Lua Torch user\n",
    "\n",
    "It would also be useful to know about RNNs and how they work:\n",
    "\n",
    "-  `The Unreasonable Effectiveness of Recurrent Neural\n",
    "   Networks <http://karpathy.github.io/2015/05/21/rnn-effectiveness/>`__\n",
    "   shows a bunch of real life examples\n",
    "-  `Understanding LSTM\n",
    "   Networks <http://colah.github.io/posts/2015-08-Understanding-LSTMs/>`__\n",
    "   is about LSTMs specifically but also informative about RNNs in\n",
    "   general\n",
    "\n",
    "Preparing the Data\n",
    "==================\n",
    "\n",
    ".. Note::\n",
    "   Download the data from\n",
    "   `here <https://download.pytorch.org/tutorial/data.zip>`_\n",
    "   and extract it to the current directory.\n",
    "\n",
    "Included in the ``data/names`` directory are 18 text files named as\n",
    "\"[Language].txt\". Each file contains a bunch of names, one name per\n",
    "line, mostly romanized (but we still need to convert from Unicode to\n",
    "ASCII).\n",
    "\n",
    "We'll end up with a dictionary of lists of names per language,\n",
    "``{language: [names ...]}``. The generic variables \"category\" and \"line\"\n",
    "(for language and name in our case) are used for later extensibility.\n",
    "\n",
    "\n",
    "\n",
    "###  18개의 언어에서 수 천개의 성을 훈련시키고 , 이름이 어떤 언어인지 예측함\n",
    "\n",
    "\n",
    "data / names 디렉토리에는 \"[Language] .txt\"라는 18 개의 텍스트 파일이 포함되어있고,  각 파일에는 한 줄에 하나의 이름이 포함되어 있으며 대부분 로마자로 표시되어 있습니다 (단, 유니 코드에서 ASCII로 변환해야 함).\n",
    "\n",
    "{language : [names ...]}라는 언어 별 사전 목록이 만들어집니다. 일반 변수 \"category\"와 \"line\"(이 경우 언어와 이름 용)은 이후의 확장 성을 위해 사용됩니다\n"
   ]
  },
  {
   "cell_type": "code",
   "execution_count": 6,
   "metadata": {
    "scrolled": true
   },
   "outputs": [
    {
     "name": "stdout",
     "output_type": "stream",
     "text": [
      "['data/names/German.txt', 'data/names/Irish.txt', 'data/names/Japanese.txt', 'data/names/Polish.txt', 'data/names/Spanish.txt', 'data/names/English.txt', 'data/names/Korean.txt', 'data/names/Russian.txt', 'data/names/Portuguese.txt', 'data/names/Vietnamese.txt', 'data/names/Greek.txt', 'data/names/Dutch.txt', 'data/names/Czech.txt', 'data/names/Italian.txt', 'data/names/Chinese.txt', 'data/names/French.txt', 'data/names/Scottish.txt', 'data/names/Arabic.txt']\n",
      "Slusarski\n"
     ]
    }
   ],
   "source": [
    "from __future__ import unicode_literals, print_function, division\n",
    "from io import open\n",
    "import glob\n",
    "\n",
    "def findFiles(path): return glob.glob(path)\n",
    "\n",
    "print(findFiles('data/names/*.txt'))\n",
    "\n",
    "import unicodedata\n",
    "import string\n",
    "\n",
    "all_letters = string.ascii_letters + \" .,;'\"\n",
    "n_letters = len(all_letters)\n",
    "\n",
    "# Turn a Unicode string to plain ASCII, thanks to http://stackoverflow.com/a/518232/2809427\n",
    "\n",
    "#유니코드를 변환\n",
    "def unicodeToAscii(s):\n",
    "    return ''.join(\n",
    "        c for c in unicodedata.normalize('NFD', s)\n",
    "        if unicodedata.category(c) != 'Mn'\n",
    "        and c in all_letters\n",
    "    )\n",
    "\n",
    "\n",
    "print(unicodeToAscii('Ślusàrski'))\n",
    "\n",
    "# Build the category_lines dictionary, a list of names per language\n",
    "\n",
    "\n",
    "category_lines = {}\n",
    "all_categories = []\n",
    "\n"
   ]
  },
  {
   "cell_type": "code",
   "execution_count": 7,
   "metadata": {
    "collapsed": true
   },
   "outputs": [],
   "source": [
    "# Read a file and split into lines\n",
    "\n",
    "#파일 읽고 나누기\n",
    "def readLines(filename):\n",
    "    lines = open(filename, encoding='utf-8').read().strip().split('\\n')\n",
    "    return [unicodeToAscii(line) for line in lines]\n",
    "\n",
    "for filename in findFiles('data/names/*.txt'):\n",
    "    category = filename.split('/')[-1].split('.')[0] # 파일 나누고\n",
    "    all_categories.append(category) #모드 \n",
    "    lines = readLines(filename) \n",
    "    category_lines[category] = lines\n",
    "\n",
    "n_categories = len(all_categories)"
   ]
  },
  {
   "cell_type": "code",
   "execution_count": 8,
   "metadata": {},
   "outputs": [
    {
     "name": "stdout",
     "output_type": "stream",
     "text": [
      "18\n"
     ]
    }
   ],
   "source": [
    "print(n_categories)"
   ]
  },
  {
   "cell_type": "code",
   "execution_count": 9,
   "metadata": {},
   "outputs": [
    {
     "data": {
      "text/plain": [
       "['German',\n",
       " 'Irish',\n",
       " 'Japanese',\n",
       " 'Polish',\n",
       " 'Spanish',\n",
       " 'English',\n",
       " 'Korean',\n",
       " 'Russian',\n",
       " 'Portuguese',\n",
       " 'Vietnamese',\n",
       " 'Greek',\n",
       " 'Dutch',\n",
       " 'Czech',\n",
       " 'Italian',\n",
       " 'Chinese',\n",
       " 'French',\n",
       " 'Scottish',\n",
       " 'Arabic']"
      ]
     },
     "execution_count": 9,
     "metadata": {},
     "output_type": "execute_result"
    }
   ],
   "source": [
    "\n",
    "#나라이름들\n",
    "\n",
    "all_categories "
   ]
  },
  {
   "cell_type": "code",
   "execution_count": 10,
   "metadata": {},
   "outputs": [
    {
     "data": {
      "text/plain": [
       "'asda'"
      ]
     },
     "execution_count": 10,
     "metadata": {},
     "output_type": "execute_result"
    }
   ],
   "source": [
    "#split?의 예\n",
    "\n",
    "\n",
    "a=\"asdasd/asda\"\n",
    "\n",
    "a.split('/')[-1] # / 를 기준으로 나눈다. "
   ]
  },
  {
   "cell_type": "code",
   "execution_count": 7,
   "metadata": {},
   "outputs": [
    {
     "name": "stdout",
     "output_type": "stream",
     "text": [
      "data/names/German.txt\n",
      "German\n",
      "data/names/Irish.txt\n",
      "Irish\n",
      "data/names/Japanese.txt\n",
      "Japanese\n",
      "data/names/Polish.txt\n",
      "Polish\n",
      "data/names/Spanish.txt\n",
      "Spanish\n",
      "data/names/English.txt\n",
      "English\n",
      "data/names/Korean.txt\n",
      "Korean\n",
      "data/names/Russian.txt\n",
      "Russian\n",
      "data/names/Portuguese.txt\n",
      "Portuguese\n",
      "data/names/Vietnamese.txt\n",
      "Vietnamese\n",
      "data/names/Greek.txt\n",
      "Greek\n",
      "data/names/Dutch.txt\n",
      "Dutch\n",
      "data/names/Czech.txt\n",
      "Czech\n",
      "data/names/Italian.txt\n",
      "Italian\n",
      "data/names/Chinese.txt\n",
      "Chinese\n",
      "data/names/French.txt\n",
      "French\n",
      "data/names/Scottish.txt\n",
      "Scottish\n",
      "data/names/Arabic.txt\n",
      "Arabic\n"
     ]
    }
   ],
   "source": [
    "\n",
    "\n",
    "# 파일네임과, 카테고리 ?\n",
    "\n",
    "for filename in findFiles('data/names/*.txt'):\n",
    "    category = filename.split('/')[-1].split('.')[0]\n",
    "    all_categories.append(category)\n",
    "    lines = readLines(filename)\n",
    "    category_lines[category] = lines\n",
    "    print(filename)\n",
    "    print(category)\n",
    "    \n",
    "    "
   ]
  },
  {
   "cell_type": "code",
   "execution_count": null,
   "metadata": {
    "collapsed": true
   },
   "outputs": [],
   "source": []
  },
  {
   "cell_type": "markdown",
   "metadata": {},
   "source": [
    "Now we have ``category_lines``, a dictionary mapping each category\n",
    "(language) to a list of lines (names). We also kept track of\n",
    "``all_categories`` (just a list of languages) and ``n_categories`` for\n",
    "later reference.\n",
    "\n",
    "\n"
   ]
  },
  {
   "cell_type": "code",
   "execution_count": 11,
   "metadata": {},
   "outputs": [
    {
     "data": {
      "text/plain": [
       "['Ahn',\n",
       " 'Baik',\n",
       " 'Bang',\n",
       " 'Byon',\n",
       " 'Cha',\n",
       " 'Chang',\n",
       " 'Chi',\n",
       " 'Chin',\n",
       " 'Cho',\n",
       " 'Choe',\n",
       " 'Choi',\n",
       " 'Chong',\n",
       " 'Chou',\n",
       " 'Chu',\n",
       " 'Chun',\n",
       " 'Chung',\n",
       " 'Chweh',\n",
       " 'Gil',\n",
       " 'Gu',\n",
       " 'Gwang ',\n",
       " 'Ha',\n",
       " 'Han',\n",
       " 'Ho',\n",
       " 'Hong',\n",
       " 'Hung',\n",
       " 'Hwang',\n",
       " 'Hyun ',\n",
       " 'Jang',\n",
       " 'Jeon',\n",
       " 'Jeong',\n",
       " 'Jo',\n",
       " 'Jon',\n",
       " 'Jong',\n",
       " 'Jung ',\n",
       " 'Kang',\n",
       " 'Kim',\n",
       " 'Ko',\n",
       " 'Koo',\n",
       " 'Ku',\n",
       " 'Kwak',\n",
       " 'Kwang ',\n",
       " 'Lee',\n",
       " 'Li',\n",
       " 'Lim ',\n",
       " 'Ma',\n",
       " 'Mo',\n",
       " 'Moon',\n",
       " 'Nam',\n",
       " 'Ngai',\n",
       " 'Noh',\n",
       " 'Oh ',\n",
       " 'Pae',\n",
       " 'Pak',\n",
       " 'Park ',\n",
       " 'Ra',\n",
       " 'Rhee',\n",
       " 'Rheem',\n",
       " 'Ri',\n",
       " 'Rim',\n",
       " 'Ron',\n",
       " 'Ryom',\n",
       " 'Ryoo',\n",
       " 'Ryu',\n",
       " 'San',\n",
       " 'Seo',\n",
       " 'Seok',\n",
       " 'Shim',\n",
       " 'Shin',\n",
       " 'Shon',\n",
       " 'Si',\n",
       " 'Sin',\n",
       " 'So',\n",
       " 'Son',\n",
       " 'Song',\n",
       " 'Sook',\n",
       " 'Suh',\n",
       " 'Suk',\n",
       " 'Sun',\n",
       " 'Sung',\n",
       " 'Tsai ',\n",
       " 'Wang',\n",
       " 'Woo',\n",
       " 'Yang',\n",
       " 'Yeo',\n",
       " 'Yeon',\n",
       " 'Yi',\n",
       " 'Yim',\n",
       " 'Yoo',\n",
       " 'Yoon',\n",
       " 'You',\n",
       " 'Youj',\n",
       " 'Youn',\n",
       " 'Yu',\n",
       " 'Yun']"
      ]
     },
     "execution_count": 11,
     "metadata": {},
     "output_type": "execute_result"
    }
   ],
   "source": [
    "category_lines[\"Korean\"] #언어와 이름을 "
   ]
  },
  {
   "cell_type": "code",
   "execution_count": 12,
   "metadata": {},
   "outputs": [
    {
     "name": "stdout",
     "output_type": "stream",
     "text": [
      "['Abandonato', 'Abatangelo', 'Abatantuono', 'Abate', 'Abategiovanni']\n"
     ]
    }
   ],
   "source": [
    "#이탈리안 다섯번쟤까지 출력\n",
    "\n",
    "print(category_lines['Italian'][:5])"
   ]
  },
  {
   "cell_type": "markdown",
   "metadata": {},
   "source": [
    "Turning Names into Tensors\n",
    "--------------------------\n",
    "\n",
    "이름을 텐서로 튜닝하기 \n",
    "\n",
    "\n",
    "Now that we have all the names organized, we need to turn them into\n",
    "Tensors to make any use of them.\n",
    "\n",
    "To represent a single letter, we use a \"one-hot vector\" of size\n",
    "``<1 x n_letters>``. A one-hot vector is filled with 0s except for a 1\n",
    "at index of the current letter, e.g. ``\"b\" = <0 1 0 0 0 ...>``.\n",
    "\n",
    "To make a word we join a bunch of those into a 2D matrix\n",
    "``<line_length x 1 x n_letters>``.\n",
    "\n",
    "That extra 1 dimension is because PyTorch assumes everything is in\n",
    "batches - we're just using a batch size of 1 here.\n",
    "\n",
    "단일 문자를 나타 내기 위해 크기가 \"원 핫 벡터 (one-hot vector)\"를 사용합니다.\n",
    "``<1 x n_letters>``. 1 핫 벡터는 1을 제외하고 0으로 채워진다.\n",
    "현재의 문자의 인덱스, 예를 들면. `` \"b\"= <0 1 0 0 0 ...>``.\n",
    "\n",
    "단어를 만들기 위해 우리는 그 무리를 2D 행렬에 결합시킵니다.\n",
    "``<line_length x 1 x n_letters>``.\n",
    "\n",
    "그 여분의 1 차원은 PyTorch가 모든 것이 있다고 가정하기 때문입니다.\n",
    "일괄 처리 - 여기서 일괄 처리 크기 1을 사용하고 있습니다.\n",
    "\n"
   ]
  },
  {
   "cell_type": "code",
   "execution_count": 22,
   "metadata": {},
   "outputs": [
    {
     "name": "stdout",
     "output_type": "stream",
     "text": [
      "example ~~~ letter TO TENSOR~~~\n",
      "\n",
      "\n",
      "Columns 0 to 12 \n",
      "    0     0     0     0     0     0     0     0     0     0     0     0     0\n",
      "\n",
      "Columns 13 to 25 \n",
      "    0     0     0     0     0     0     0     0     0     0     0     0     0\n",
      "\n",
      "Columns 26 to 38 \n",
      "    0     0     0     0     0     0     0     0     0     1     0     0     0\n",
      "\n",
      "Columns 39 to 51 \n",
      "    0     0     0     0     0     0     0     0     0     0     0     0     0\n",
      "\n",
      "Columns 52 to 56 \n",
      "    0     0     0     0     0\n",
      "[torch.FloatTensor of size 1x57]\n",
      "\n",
      "\n",
      "\n",
      "Columns 0 to 12 \n",
      "    0     0     0     0     0     0     0     0     0     0     0     0     0\n",
      "\n",
      "Columns 13 to 25 \n",
      "    0     0     0     0     0     0     0     0     0     0     0     0     0\n",
      "\n",
      "Columns 26 to 38 \n",
      "    0     0     0     0     0     0     0     0     0     0     0     0     0\n",
      "\n",
      "Columns 39 to 51 \n",
      "    0     0     0     0     0     0     0     0     0     0     0     0     0\n",
      "\n",
      "Columns 52 to 56 \n",
      "    0     0     0     0     1\n",
      "[torch.FloatTensor of size 1x57]\n",
      "\n",
      "exmape~~~ line~ to~~ ten~~~\n",
      "torch.Size([5, 1, 57])\n",
      "torch.Size([1, 1, 57])\n"
     ]
    }
   ],
   "source": [
    "import torch #파이토치 임포트 \n",
    "\n",
    "# Find letter index from all_letters, e.g. \"a\" = 0\n",
    "\n",
    "# all_letters에서 letter의 순서를 찾기. 예를 들어 \"a\" = 0\n",
    "\n",
    "def letterToIndex(letter):\n",
    "    return all_letters.find(letter)\n",
    "\n",
    "# Just for demonstration, turn a letter into a <1 x n_letters> Tensor\n",
    "def letterToTensor(letter):\n",
    "    tensor = torch.zeros(1, n_letters)\n",
    "    tensor[0][letterToIndex(letter)] = 1\n",
    "    return tensor\n",
    "\n",
    "# Turn a line into a <line_length x 1 x n_letters>,\n",
    "# or an array of one-hot letter vectors\n",
    "def lineToTensor(line):\n",
    "    tensor = torch.zeros(len(line), 1, n_letters)\n",
    "    for li, letter in enumerate(line):\n",
    "        tensor[li][0][letterToIndex(letter)] = 1\n",
    "    return tensor\n",
    "\n",
    "print(\"example ~~~ letter TO TENSOR~~~\")\n",
    "print(letterToTensor('J'))\n",
    "\n",
    "print(letterToTensor('-'))\n",
    "\n",
    "print(\"exmape~~~ line~ to~~ ten~~~\")\n",
    "\n",
    "print(lineToTensor('Jones').size()) ## \n",
    "\n",
    "\n",
    "print(lineToTensor('a').size())\n",
    "\n"
   ]
  },
  {
   "cell_type": "code",
   "execution_count": 11,
   "metadata": {},
   "outputs": [
    {
     "data": {
      "text/plain": [
       "\n",
       "\n",
       "Columns 0 to 12 \n",
       "    0     0     0     0     0     0     0     0     0     0     0     0     0\n",
       "\n",
       "Columns 13 to 25 \n",
       "    0     0     0     0     0     0     0     0     0     0     0     0     0\n",
       "\n",
       "Columns 26 to 38 \n",
       "    0     0     0     0     0     0     0     0     0     0     0     0     0\n",
       "\n",
       "Columns 39 to 51 \n",
       "    0     0     0     0     0     0     0     0     0     0     0     0     0\n",
       "\n",
       "Columns 52 to 64 \n",
       "    0     0     0     0     0     0     0     0     0     0     0     0     0\n",
       "\n",
       "Columns 65 to 77 \n",
       "    0     0     0     0     0     0     0     0     0     0     0     0     0\n",
       "\n",
       "Columns 78 to 90 \n",
       "    0     0     0     0     0     0     0     0     0     0     0     0     0\n",
       "\n",
       "Columns 91 to 99 \n",
       "    0     0     0     0     0     0     0     0     0\n",
       "[torch.FloatTensor of size 1x100]"
      ]
     },
     "execution_count": 11,
     "metadata": {},
     "output_type": "execute_result"
    }
   ],
   "source": [
    "#example of tensor zero~~~\n",
    "\n",
    "\n",
    "torch.zeros(1,100)\n"
   ]
  },
  {
   "cell_type": "markdown",
   "metadata": {},
   "source": [
    "Creating the Network\n",
    "====================\n",
    "네트워크 생성\n",
    "==================\n",
    "\n",
    "\n",
    "Autograd를 사용하기 전에 Torch에서 recurrent neural network 만드는 작업에는 여러 타임 스텝에서 레이어의 매개 변수를 복제하는 작업이 포함되었습니다. 그래프에 자체에서 hidden state와  gradients를 헨들할수 있는 레이어를 가지고 있다.  그라디언트를 가지며 이제 그래프 자체에서 완전히 처리됩니다. 즉, feed-forward layers.처럼 RNN을 매우 \"순수한\"방식으로 구현할 수 있습니다.\n",
    "\n",
    "\n",
    "\n",
    "\n",
    "\n",
    "\n"
   ]
  },
  {
   "cell_type": "code",
   "execution_count": 23,
   "metadata": {},
   "outputs": [],
   "source": [
    "import torch.nn as nn\n",
    "from torch.autograd import Variable\n",
    "\n",
    "class RNN(nn.Module):\n",
    "    def __init__(self, input_size, hidden_size, output_size):\n",
    "        super(RNN, self).__init__()\n",
    "        \n",
    "        self.hidden_size = hidden_size\n",
    "        \n",
    "        self.i2h = nn.Linear(input_size + hidden_size, hidden_size)\n",
    "        self.i2o = nn.Linear(input_size + hidden_size, output_size)\n",
    "        self.softmax = nn.LogSoftmax()\n",
    "    \n",
    "    def forward(self, input, hidden):\n",
    "        combined = torch.cat((input, hidden), 1)\n",
    "        hidden = self.i2h(combined)\n",
    "        output = self.i2o(combined)\n",
    "        output = self.softmax(output)\n",
    "        return output, hidden\n",
    "\n",
    "    def initHidden(self):\n",
    "        return Variable(torch.zeros(1, self.hidden_size))\n",
    "\n",
    "n_hidden = 128\n",
    "rnn = RNN(n_letters, n_hidden, n_categories)"
   ]
  },
  {
   "cell_type": "code",
   "execution_count": 24,
   "metadata": {},
   "outputs": [
    {
     "name": "stdout",
     "output_type": "stream",
     "text": [
      "Linear (5 -> 4)\n"
     ]
    },
    {
     "data": {
      "text/plain": [
       "'\\nhttp://pytorch.org/docs/master/nn.html\\n\\n\\n\\nLinear layers\\nclass torch.nn.Linear(in_features, out_features, bias=True)[source]\\nApplies a linear transformation to the incoming data: y=Ax+by=Ax+b\\n\\n\\n\\n'"
      ]
     },
     "execution_count": 24,
     "metadata": {},
     "output_type": "execute_result"
    }
   ],
   "source": [
    "#nn.Linear???\n",
    "\n",
    "print(nn.Linear(5,4))\n",
    "\"\"\"\n",
    "http://pytorch.org/docs/master/nn.html\n",
    "\n",
    "\n",
    "\n",
    "Linear layers\n",
    "class torch.nn.Linear(in_features, out_features, bias=True)[source]\n",
    "Applies a linear transformation to the incoming data: y=Ax+by=Ax+b\n",
    "\n",
    "\n",
    "\n",
    "\"\"\"\n"
   ]
  },
  {
   "cell_type": "code",
   "execution_count": 14,
   "metadata": {
    "collapsed": true
   },
   "outputs": [],
   "source": [
    "# torch cat?\n"
   ]
  },
  {
   "cell_type": "markdown",
   "metadata": {},
   "source": [
    "\n",
    "\n",
    "\n",
    "이 네트워크를 실행하려면 인풋(이 경우에는\n",
    "현재 letter에 대한 Tensor)와 이전 히든 스테이트\n",
    "(우리가 처음에 0으로 초기화)를 통과해야 합니다. \n",
    "\n",
    "그리고 결과(각 언어의 확률 )와 다음 히든스테이트 (우리가 다음스텝을 위해 킵 해야 할것).\n",
    "\n",
    "\n",
    "파이토치 모듈은 텐서에서 바로 작용되지 않고 변수에서 작동되는 것을 기억하세요.\n",
    "\n",
    "\n",
    "\n"
   ]
  },
  {
   "cell_type": "code",
   "execution_count": 25,
   "metadata": {},
   "outputs": [],
   "source": [
    "input = Variable(letterToTensor('A'))#알파벳을 텐서로\n",
    "hidden = Variable(torch.zeros(1, n_hidden)) #히든스테잇\n",
    "\n",
    "output, next_hidden = rnn(input, hidden) #아웃풋하고, 다음 히든스테잇"
   ]
  },
  {
   "cell_type": "code",
   "execution_count": 16,
   "metadata": {
    "scrolled": true
   },
   "outputs": [
    {
     "name": "stdout",
     "output_type": "stream",
     "text": [
      "Variable containing:\n",
      "\n",
      "Columns 0 to 12 \n",
      "    0     0     0     0     0     0     0     0     0     0     0     0     0\n",
      "\n",
      "Columns 13 to 25 \n",
      "    0     0     0     0     0     0     0     0     0     0     0     0     0\n",
      "\n",
      "Columns 26 to 38 \n",
      "    1     0     0     0     0     0     0     0     0     0     0     0     0\n",
      "\n",
      "Columns 39 to 51 \n",
      "    0     0     0     0     0     0     0     0     0     0     0     0     0\n",
      "\n",
      "Columns 52 to 56 \n",
      "    0     0     0     0     0\n",
      "[torch.FloatTensor of size 1x57]\n",
      "\n",
      "Variable containing:\n",
      "\n",
      "Columns 0 to 12 \n",
      "    0     0     0     0     0     0     0     0     0     0     0     0     0\n",
      "\n",
      "Columns 13 to 25 \n",
      "    0     0     0     0     0     0     0     0     0     0     0     0     0\n",
      "\n",
      "Columns 26 to 38 \n",
      "    0     0     0     0     0     0     0     0     0     0     0     0     0\n",
      "\n",
      "Columns 39 to 51 \n",
      "    0     0     0     0     0     0     0     0     0     0     0     0     0\n",
      "\n",
      "Columns 52 to 64 \n",
      "    0     0     0     0     0     0     0     0     0     0     0     0     0\n",
      "\n",
      "Columns 65 to 77 \n",
      "    0     0     0     0     0     0     0     0     0     0     0     0     0\n",
      "\n",
      "Columns 78 to 90 \n",
      "    0     0     0     0     0     0     0     0     0     0     0     0     0\n",
      "\n",
      "Columns 91 to 103 \n",
      "    0     0     0     0     0     0     0     0     0     0     0     0     0\n",
      "\n",
      "Columns 104 to 116 \n",
      "    0     0     0     0     0     0     0     0     0     0     0     0     0\n",
      "\n",
      "Columns 117 to 127 \n",
      "    0     0     0     0     0     0     0     0     0     0     0\n",
      "[torch.FloatTensor of size 1x128]\n",
      "\n"
     ]
    }
   ],
   "source": [
    "print(input)\n",
    "print(hidden)"
   ]
  },
  {
   "cell_type": "markdown",
   "metadata": {},
   "source": [
    "\n",
    "\n",
    "효율성을 위해 각 스텝마다 새로운텐서를 만들지 않습니다.\n",
    "\n",
    "그래서\n",
    "\n",
    "``letterToTensor` 대신에``lineToTensor``를 사용할 것입니다.\n",
    "\n"
   ]
  },
  {
   "cell_type": "code",
   "execution_count": 27,
   "metadata": {},
   "outputs": [
    {
     "name": "stdout",
     "output_type": "stream",
     "text": [
      "Variable containing:\n",
      "\n",
      "Columns 0 to 9 \n",
      "-2.8913 -2.8391 -2.8880 -2.9434 -2.9547 -2.9481 -2.8669 -2.8157 -2.8749 -2.9858\n",
      "\n",
      "Columns 10 to 17 \n",
      "-2.8966 -2.8742 -2.9436 -2.8406 -2.9837 -2.8022 -2.8056 -2.9013\n",
      "[torch.FloatTensor of size 1x18]\n",
      "\n"
     ]
    }
   ],
   "source": [
    "input = Variable(lineToTensor('Albert')) #라인 투 텐서\n",
    "hidden = Variable(torch.zeros(1, n_hidden)) #히든 스테이트 \n",
    "output, next_hidden = rnn(input[0], hidden)\n",
    "print(output)"
   ]
  },
  {
   "cell_type": "markdown",
   "metadata": {},
   "source": [
    "\n",
    "아웃풋은 각 아이템들이 그 카테고리의 라이클리후드(higher is more likely)  ``<1 x n_categories>`` 형태의  텐서이다.\n",
    "\n",
    "\n",
    "\n"
   ]
  },
  {
   "cell_type": "markdown",
   "metadata": {},
   "source": [
    "Training\n",
    "========\n",
    "Preparing for Training\n",
    "----------------------\n",
    "\n",
    "Before going into training we should make a few helper functions. The\n",
    "first is to interpret the output of the network, which we know to be a\n",
    "likelihood of each category. We can use ``Tensor.topk`` to get the index\n",
    "of the greatest value:\n",
    "\n",
    "트레이닝을 시작하기 전에 몇 가지 헬퍼함수를 만들어야합니다. \n",
    "첫번째는 각 카테고리의 라이클리후드가 얼마나 되는 것인지에 대한 네트워크의 아웃풋을 설명하는 것 입니다. \n",
    "\n",
    "우리는``Tensor.topk``를 사용하여  가장 큰 벨류의 인덱스를 구할수 있습니다\n"
   ]
  },
  {
   "cell_type": "code",
   "execution_count": 29,
   "metadata": {},
   "outputs": [
    {
     "name": "stdout",
     "output_type": "stream",
     "text": [
      "('French', 15)\n"
     ]
    }
   ],
   "source": [
    "def categoryFromOutput(output):\n",
    "    top_n, top_i = output.data.topk(1) # Tensor out of Variable with .data\n",
    "    category_i = top_i[0][0]\n",
    "    return all_categories[category_i], category_i\n",
    "\n",
    "print(categoryFromOutput(output))"
   ]
  },
  {
   "cell_type": "markdown",
   "metadata": {},
   "source": [
    "We will also want a quick way to get a training example (a name and its\n",
    "language):\n",
    "좀 더 빨리 훈련 예를 구하려면 \n",
    "\n"
   ]
  },
  {
   "cell_type": "code",
   "execution_count": 40,
   "metadata": {},
   "outputs": [
    {
     "name": "stdout",
     "output_type": "stream",
     "text": [
      "category = Korean / line = Lee\n",
      "category = French / line = Fontaine\n",
      "category = Chinese / line = Ping\n",
      "category = Italian / line = Angioli\n",
      "category = Polish / line = Bobienski\n",
      "category = German / line = Hummel\n",
      "category = Scottish / line = Sutherland\n",
      "category = Dutch / line = Meeuwes\n",
      "category = English / line = Ould\n",
      "category = Portuguese / line = Campos\n"
     ]
    }
   ],
   "source": [
    "import random\n",
    "\n",
    "def randomChoice(l):\n",
    "    return l[random.randint(0, len(l) - 1)]\n",
    "\n",
    "def randomTrainingExample():\n",
    "    category = randomChoice(all_categories)\n",
    "    line = randomChoice(category_lines[category])\n",
    "    category_tensor = Variable(torch.LongTensor([all_categories.index(category)]))\n",
    "    line_tensor = Variable(lineToTensor(line))\n",
    "    return category, line, category_tensor, line_tensor\n",
    "\n",
    "for i in range(10):\n",
    "    category, line, category_tensor, line_tensor = randomTrainingExample()\n",
    "    print('category =', category, '/ line =', line)"
   ]
  },
  {
   "cell_type": "markdown",
   "metadata": {},
   "source": [
    "Training the Network\n",
    "--------------------\n",
    "\n",
    "Now all it takes to train this network is show it a bunch of examples,\n",
    "have it make guesses, and tell it if it's wrong.\n",
    "\n",
    "\n",
    "이제 이 네트워크를 훈련시키는 데 필요한 모든 것이 여러 예제를 보여줍니다.\n",
    "그것을 추측하게하고 그것이 틀린 지 말하십시오.이\n",
    "\n",
    "For the loss function ``nn.NLLLoss`` is appropriate, since the last\n",
    "layer of the RNN is ``nn.LogSoftmax``.\n",
    "\n",
    "\n"
   ]
  },
  {
   "cell_type": "code",
   "execution_count": 41,
   "metadata": {
    "collapsed": true
   },
   "outputs": [],
   "source": [
    "criterion = nn.NLLLoss()"
   ]
  },
  {
   "cell_type": "markdown",
   "metadata": {},
   "source": [
    "Each loop of training will:\n",
    "\n",
    "-  Create input and target tensors\n",
    "-  Create a zeroed initial hidden state\n",
    "-  Read each letter in and\n",
    "\n",
    "   -  Keep hidden state for next letter\n",
    "\n",
    "-  Compare final output to target\n",
    "-  Back-propagate\n",
    "-  Return the output and loss\n",
    "\n",
    "\n",
    "\n",
    "- 인풋과 타켓 텐서 생성\n",
    "- 0으로 초기화\n",
    " -각 글자를 읽고 \n",
    " - 다음글자를 위해 히든스테이트를 킵 한다. \n",
    "\n",
    "\n",
    "- 정답과  final output 를 비교한다. \n",
    "- Back-propagate\n",
    "- 출력 및 손실을 반환합니다.\n",
    "\n"
   ]
  },
  {
   "cell_type": "code",
   "execution_count": 42,
   "metadata": {
    "collapsed": true
   },
   "outputs": [],
   "source": [
    "learning_rate = 0.005 #러닝레잇 설정\n",
    "\n",
    "def train(category_tensor, line_tensor):\n",
    "    hidden = rnn.initHidden()\n",
    "\n",
    "    rnn.zero_grad()\n",
    "\n",
    "    for i in range(line_tensor.size()[0]):\n",
    "        output, hidden = rnn(line_tensor[i], hidden)\n",
    "\n",
    "    loss = criterion(output, category_tensor)\n",
    "    loss.backward()\n",
    "\n",
    "    # Add parameters' gradients to their values, multiplied by learning rate\n",
    "    for p in rnn.parameters():\n",
    "        p.data.add_(-learning_rate, p.grad.data)\n",
    "\n",
    "    return output, loss.data[0]"
   ]
  },
  {
   "cell_type": "markdown",
   "metadata": {},
   "source": [
    "Now we just have to run that with a bunch of examples. Since the\n",
    "``train`` function returns both the output and loss we can print its\n",
    "guesses and also keep track of loss for plotting. Since there are 1000s\n",
    "of examples we print only every ``print_every`` examples, and take an\n",
    "average of the loss.\n",
    "\n",
    "\n",
    "실행~~~~\n"
   ]
  },
  {
   "cell_type": "code",
   "execution_count": null,
   "metadata": {},
   "outputs": [
    {
     "name": "stdout",
     "output_type": "stream",
     "text": [
      "5000 5% (0m 10s) 2.3104 Bachmeier / Russian ✗ (German)\n",
      "10000 10% (0m 21s) 1.6453 Agteren / Dutch ✓\n",
      "15000 15% (0m 33s) 1.2245 Wegener / German ✓\n",
      "20000 20% (0m 44s) 2.5842 Hill / Chinese ✗ (Scottish)\n",
      "25000 25% (0m 54s) 0.1635 Filipowski / Polish ✓\n",
      "30000 30% (1m 4s) 1.9824 Machado / Japanese ✗ (Portuguese)\n"
     ]
    }
   ],
   "source": [
    "import time\n",
    "import math\n",
    "\n",
    "n_iters = 100000\n",
    "print_every = 5000\n",
    "plot_every = 1000\n",
    "\n",
    "\n",
    "\n",
    "# Keep track of losses for plotting\n",
    "current_loss = 0\n",
    "all_losses = []\n",
    "\n",
    "def timeSince(since):\n",
    "    now = time.time()\n",
    "    s = now - since\n",
    "    m = math.floor(s / 60)\n",
    "    s -= m * 60\n",
    "    return '%dm %ds' % (m, s)\n",
    "\n",
    "start = time.time()\n",
    "\n",
    "for iter in range(1, n_iters + 1):\n",
    "    category, line, category_tensor, line_tensor = randomTrainingExample()\n",
    "    output, loss = train(category_tensor, line_tensor)\n",
    "    current_loss += loss\n",
    "\n",
    "    # Print iter number, loss, name and guess\n",
    "    if iter % print_every == 0:\n",
    "        guess, guess_i = categoryFromOutput(output)\n",
    "        correct = '✓' if guess == category else '✗ (%s)' % category\n",
    "        print('%d %d%% (%s) %.4f %s / %s %s' % (iter, iter / n_iters * 100, timeSince(start), loss, line, guess, correct))\n",
    "\n",
    "    # Add current loss avg to list of losses\n",
    "    if iter % plot_every == 0:\n",
    "        all_losses.append(current_loss / plot_every)\n",
    "        current_loss = 0"
   ]
  },
  {
   "cell_type": "markdown",
   "metadata": {},
   "source": [
    "Plotting the Results\n",
    "--------------------\n",
    "\n",
    "Plotting the historical loss from ``all_losses`` shows the network\n",
    "learning:\n",
    "\n",
    "\n"
   ]
  },
  {
   "cell_type": "code",
   "execution_count": 23,
   "metadata": {},
   "outputs": [
    {
     "data": {
      "text/plain": [
       "[<matplotlib.lines.Line2D at 0x7fc77489aac8>]"
      ]
     },
     "execution_count": 23,
     "metadata": {},
     "output_type": "execute_result"
    },
    {
     "data": {
      "image/png": "[encoded data removed]",
      "text/plain": [
       "<matplotlib.figure.Figure at 0x7fc77a184438>"
      ]
     },
     "metadata": {},
     "output_type": "display_data"
    }
   ],
   "source": [
    "import matplotlib.pyplot as plt\n",
    "import matplotlib.ticker as ticker\n",
    "\n",
    "plt.figure()\n",
    "plt.plot(all_losses)"
   ]
  },
  {
   "cell_type": "code",
   "execution_count": 24,
   "metadata": {},
   "outputs": [
    {
     "name": "stdout",
     "output_type": "stream",
     "text": [
      "done\n"
     ]
    }
   ],
   "source": [
    "print(\"done\")"
   ]
  },
  {
   "cell_type": "markdown",
   "metadata": {},
   "source": [
    "Evaluating the Results\n",
    "======================\n",
    "\n",
    "\n",
    "confustion matrix wiki : \n",
    "https://en.wikipedia.org/wiki/Confusion_matrix\n",
    "\n",
    "네트워크가 다른 카테고리에서 얼마나 잘 작동하는지 보려면\n",
    " 각각의 언어에 confusion matrix를 만들어야 합니다.\n",
    " 로우 에는 각각의 언어 컬럼에는 네트워크가 추측한 언어\n",
    " "
   ]
  },
  {
   "cell_type": "code",
   "execution_count": 25,
   "metadata": {},
   "outputs": [
    {
     "data": {
      "image/png": "[encoded data removed]",
      "text/plain": [
       "<matplotlib.figure.Figure at 0x7fc77485d9e8>"
      ]
     },
     "metadata": {},
     "output_type": "display_data"
    }
   ],
   "source": [
    "# Keep track of correct guesses in a confusion matrix\n",
    "confusion = torch.zeros(n_categories, n_categories)\n",
    "n_confusion = 10000\n",
    "\n",
    "# Just return an output given a line\n",
    "def evaluate(line_tensor):\n",
    "    hidden = rnn.initHidden()\n",
    "    \n",
    "    for i in range(line_tensor.size()[0]):\n",
    "        output, hidden = rnn(line_tensor[i], hidden)\n",
    "    \n",
    "    return output\n",
    "\n",
    "# Go through a bunch of examples and record which are correctly guessed\n",
    "for i in range(n_confusion):\n",
    "    category, line, category_tensor, line_tensor = randomTrainingExample()\n",
    "    output = evaluate(line_tensor)\n",
    "    guess, guess_i = categoryFromOutput(output)\n",
    "    category_i = all_categories.index(category)\n",
    "    confusion[category_i][guess_i] += 1\n",
    "\n",
    "# Normalize by dividing every row by its sum\n",
    "for i in range(n_categories):\n",
    "    confusion[i] = confusion[i] / confusion[i].sum()\n",
    "\n",
    "# Set up plot\n",
    "fig = plt.figure()\n",
    "ax = fig.add_subplot(111)\n",
    "cax = ax.matshow(confusion.numpy())\n",
    "fig.colorbar(cax)\n",
    "\n",
    "# Set up axes\n",
    "ax.set_xticklabels([''] + all_categories, rotation=90)\n",
    "ax.set_yticklabels([''] + all_categories)\n",
    "\n",
    "# Force label at every tick\n",
    "ax.xaxis.set_major_locator(ticker.MultipleLocator(1))\n",
    "ax.yaxis.set_major_locator(ticker.MultipleLocator(1))\n",
    "\n",
    "# sphinx_gallery_thumbnail_number = 2\n",
    "plt.show()"
   ]
  }
 ],
 "metadata": {
  "kernelspec": {
   "display_name": "Python 3",
   "language": "python",
   "name": "python3"
  },
  "language_info": {
   "codemirror_mode": {
    "name": "ipython",
    "version": 3
   },
   "file_extension": ".py",
   "mimetype": "text/x-python",
   "name": "python",
   "nbconvert_exporter": "python",
   "pygments_lexer": "ipython3",
   "version": "3.5.2"
  }
 },
 "nbformat": 4,
 "nbformat_minor": 1
}

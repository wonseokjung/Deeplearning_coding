{
 "cells": [
  {
   "cell_type": "code",
   "execution_count": 1,
   "metadata": {},
   "outputs": [
    {
     "name": "stdout",
     "output_type": "stream",
     "text": [
      "d\n"
     ]
    }
   ],
   "source": [
    "# To support both python 2 and python 3\n",
    "from __future__ import division, print_function, unicode_literals\n",
    "\n",
    "# Common imports\n",
    "import numpy as np\n",
    "import os\n",
    "\n",
    "# to make this notebook's output stable across runs\n",
    "def reset_graph(seed=42):\n",
    "    tf.reset_default_graph()\n",
    "    tf.set_random_seed(seed)\n",
    "    np.random.seed(seed)\n",
    "\n",
    "# To plot pretty figures\n",
    "%matplotlib inline\n",
    "import matplotlib\n",
    "import matplotlib.pyplot as plt\n",
    "plt.rcParams['axes.labelsize'] = 14\n",
    "plt.rcParams['xtick.labelsize'] = 12\n",
    "plt.rcParams['ytick.labelsize'] = 12\n",
    "\n",
    "# Where to save the figures\n",
    "PROJECT_ROOT_DIR = \".\"\n",
    "CHAPTER_ID = \"deep\"\n",
    "\n",
    "def save_fig(fig_id, tight_layout=True):\n",
    "    path = os.path.join(PROJECT_ROOT_DIR, \"images\", CHAPTER_ID, fig_id + \".png\")\n",
    "    print(\"Saving figure\", fig_id)\n",
    "    if tight_layout:\n",
    "        plt.tight_layout()\n",
    "    plt.savefig(path, format='png', dpi=300)\n",
    "    \n",
    "print(\"d\")"
   ]
  },
  {
   "cell_type": "markdown",
   "metadata": {},
   "source": [
    "# Vanishing/Exploding Gradients Problem\n"
   ]
  },
  {
   "cell_type": "code",
   "execution_count": null,
   "metadata": {
    "collapsed": true
   },
   "outputs": [],
   "source": [
    "def logit(z): \n",
    "    return 1/(1+np.exp(-z))\n"
   ]
  },
  {
   "cell_type": "code",
   "execution_count": 3,
   "metadata": {},
   "outputs": [
    {
     "name": "stdout",
     "output_type": "stream",
     "text": [
      "[-5.         -4.94974874 -4.89949749 -4.84924623 -4.79899497 -4.74874372\n",
      " -4.69849246 -4.64824121 -4.59798995 -4.54773869 -4.49748744 -4.44723618\n",
      " -4.39698492 -4.34673367 -4.29648241 -4.24623116 -4.1959799  -4.14572864\n",
      " -4.09547739 -4.04522613 -3.99497487 -3.94472362 -3.89447236 -3.84422111\n",
      " -3.79396985 -3.74371859 -3.69346734 -3.64321608 -3.59296482 -3.54271357\n",
      " -3.49246231 -3.44221106 -3.3919598  -3.34170854 -3.29145729 -3.24120603\n",
      " -3.19095477 -3.14070352 -3.09045226 -3.04020101 -2.98994975 -2.93969849\n",
      " -2.88944724 -2.83919598 -2.78894472 -2.73869347 -2.68844221 -2.63819095\n",
      " -2.5879397  -2.53768844 -2.48743719 -2.43718593 -2.38693467 -2.33668342\n",
      " -2.28643216 -2.2361809  -2.18592965 -2.13567839 -2.08542714 -2.03517588\n",
      " -1.98492462 -1.93467337 -1.88442211 -1.83417085 -1.7839196  -1.73366834\n",
      " -1.68341709 -1.63316583 -1.58291457 -1.53266332 -1.48241206 -1.4321608\n",
      " -1.38190955 -1.33165829 -1.28140704 -1.23115578 -1.18090452 -1.13065327\n",
      " -1.08040201 -1.03015075 -0.9798995  -0.92964824 -0.87939698 -0.82914573\n",
      " -0.77889447 -0.72864322 -0.67839196 -0.6281407  -0.57788945 -0.52763819\n",
      " -0.47738693 -0.42713568 -0.37688442 -0.32663317 -0.27638191 -0.22613065\n",
      " -0.1758794  -0.12562814 -0.07537688 -0.02512563  0.02512563  0.07537688\n",
      "  0.12562814  0.1758794   0.22613065  0.27638191  0.32663317  0.37688442\n",
      "  0.42713568  0.47738693  0.52763819  0.57788945  0.6281407   0.67839196\n",
      "  0.72864322  0.77889447  0.82914573  0.87939698  0.92964824  0.9798995\n",
      "  1.03015075  1.08040201  1.13065327  1.18090452  1.23115578  1.28140704\n",
      "  1.33165829  1.38190955  1.4321608   1.48241206  1.53266332  1.58291457\n",
      "  1.63316583  1.68341709  1.73366834  1.7839196   1.83417085  1.88442211\n",
      "  1.93467337  1.98492462  2.03517588  2.08542714  2.13567839  2.18592965\n",
      "  2.2361809   2.28643216  2.33668342  2.38693467  2.43718593  2.48743719\n",
      "  2.53768844  2.5879397   2.63819095  2.68844221  2.73869347  2.78894472\n",
      "  2.83919598  2.88944724  2.93969849  2.98994975  3.04020101  3.09045226\n",
      "  3.14070352  3.19095477  3.24120603  3.29145729  3.34170854  3.3919598\n",
      "  3.44221106  3.49246231  3.54271357  3.59296482  3.64321608  3.69346734\n",
      "  3.74371859  3.79396985  3.84422111  3.89447236  3.94472362  3.99497487\n",
      "  4.04522613  4.09547739  4.14572864  4.1959799   4.24623116  4.29648241\n",
      "  4.34673367  4.39698492  4.44723618  4.49748744  4.54773869  4.59798995\n",
      "  4.64824121  4.69849246  4.74874372  4.79899497  4.84924623  4.89949749\n",
      "  4.94974874  5.        ]\n"
     ]
    }
   ],
   "source": [
    "\n",
    "z = np.linspace(-5,5,200)\n",
    "\n",
    "\n",
    "print(z)"
   ]
  },
  {
   "cell_type": "code",
   "execution_count": 4,
   "metadata": {},
   "outputs": [
    {
     "ename": "SyntaxError",
     "evalue": "unexpected EOF while parsing (<ipython-input-4-74082d3a63f0>, line 10)",
     "output_type": "error",
     "traceback": [
      "\u001b[0;36m  File \u001b[0;32m\"<ipython-input-4-74082d3a63f0>\"\u001b[0;36m, line \u001b[0;32m10\u001b[0m\n\u001b[0;31m    plt.plot(z, logit(z),\u001b[0m\n\u001b[0m                          ^\u001b[0m\n\u001b[0;31mSyntaxError\u001b[0m\u001b[0;31m:\u001b[0m unexpected EOF while parsing\n"
     ]
    }
   ],
   "source": [
    "plt.plot([-5,5],[0,0], 'k-')\n",
    "\n",
    "\n",
    "plt.plot([-5,5],[1,1],'k--')\n",
    "\n",
    "plt.plot([0,0],[-0.2, 1.2], 'k-')\n",
    "\n",
    "plt.plot([-5,5], [-3/4, 7/4], 'g--')\n",
    "\n",
    "plt.plot(z, logit(z), \"b-\", linewidth = 2)\n",
    "\n",
    "props = dict(facecolor=\"black\", shrink = 0.1)"
   ]
  },
  {
   "cell_type": "code",
   "execution_count": null,
   "metadata": {
    "collapsed": true
   },
   "outputs": [],
   "source": []
  },
  {
   "cell_type": "code",
   "execution_count": null,
   "metadata": {
    "collapsed": true
   },
   "outputs": [],
   "source": []
  },
  {
   "cell_type": "code",
   "execution_count": null,
   "metadata": {
    "collapsed": true
   },
   "outputs": [],
   "source": []
  },
  {
   "cell_type": "code",
   "execution_count": null,
   "metadata": {
    "collapsed": true
   },
   "outputs": [],
   "source": []
  },
  {
   "cell_type": "code",
   "execution_count": null,
   "metadata": {
    "collapsed": true
   },
   "outputs": [],
   "source": []
  },
  {
   "cell_type": "code",
   "execution_count": null,
   "metadata": {
    "collapsed": true
   },
   "outputs": [],
   "source": []
  },
  {
   "cell_type": "code",
   "execution_count": null,
   "metadata": {
    "collapsed": true
   },
   "outputs": [],
   "source": []
  },
  {
   "cell_type": "code",
   "execution_count": null,
   "metadata": {
    "collapsed": true
   },
   "outputs": [],
   "source": []
  },
  {
   "cell_type": "code",
   "execution_count": null,
   "metadata": {
    "collapsed": true
   },
   "outputs": [],
   "source": []
  },
  {
   "cell_type": "code",
   "execution_count": null,
   "metadata": {
    "collapsed": true
   },
   "outputs": [],
   "source": []
  }
 ],
 "metadata": {
  "kernelspec": {
   "display_name": "Python 3",
   "language": "python",
   "name": "python3"
  },
  "language_info": {
   "codemirror_mode": {
    "name": "ipython",
    "version": 3
   },
   "file_extension": ".py",
   "mimetype": "text/x-python",
   "name": "python",
   "nbconvert_exporter": "python",
   "pygments_lexer": "ipython3",
   "version": "3.5.2"
  }
 },
 "nbformat": 4,
 "nbformat_minor": 2
}

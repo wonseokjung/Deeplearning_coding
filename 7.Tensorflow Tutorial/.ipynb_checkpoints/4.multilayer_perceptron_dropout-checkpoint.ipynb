{
 "cells": [
  {
   "cell_type": "code",
   "execution_count": 1,
   "metadata": {
    "collapsed": true
   },
   "outputs": [],
   "source": [
    "\n",
    "import numpy as np\n",
    "import tensorflow as tf\n",
    "import matplotlib.pyplot as plt\n",
    "from tensorflow.examples.tutorials.mnist import input_data\n"
   ]
  },
  {
   "cell_type": "code",
   "execution_count": 2,
   "metadata": {
    "scrolled": true
   },
   "outputs": [
    {
     "name": "stdout",
     "output_type": "stream",
     "text": [
      "Extracting data/train-images-idx3-ubyte.gz\n",
      "Extracting data/train-labels-idx1-ubyte.gz\n",
      "Extracting data/t10k-images-idx3-ubyte.gz\n",
      "Extracting data/t10k-labels-idx1-ubyte.gz\n",
      "done\n"
     ]
    }
   ],
   "source": [
    "mnist = input_data.read_data_sets(\"data/\", one_hot=True)\n",
    "print(\"done\")"
   ]
  },
  {
   "cell_type": "code",
   "execution_count": 3,
   "metadata": {},
   "outputs": [
    {
     "name": "stdout",
     "output_type": "stream",
     "text": [
      "Set the network\n"
     ]
    }
   ],
   "source": [
    "n_input=784 #image shape 28*28\n",
    "n_hidden_1=512\n",
    "n_hidden_2=512\n",
    "n_hidden_3=256\n",
    "n_classes=10\n",
    "\n",
    "x=tf.placeholder(\"float\",[None, n_input])\n",
    "y=tf.placeholder(\"float\",[None, n_classes])\n",
    "dropout_keep_prob=tf.placeholder(\"float\")\n",
    "\n",
    "stddev=0.05\n",
    "\n",
    "weights={\n",
    "    \n",
    "    'h1':tf.Variable(tf.random_normal([n_input, n_hidden_1],stddev=stddev)),\n",
    "    'h2':tf.Variable(tf.random_normal([n_hidden_1,n_hidden_2], stddev=stddev)),\n",
    "    'h3':tf.Variable(tf.random_normal([n_hidden_2,n_hidden_3],stddev=stddev)),\n",
    "    'out':tf.Variable(tf.random_normal([n_hidden_3,n_classes],stddev=stddev))\n",
    "}\n",
    "\n",
    "\n",
    "biases={\n",
    "    'b1':tf.Variable(tf.random_normal([n_hidden_1])),\n",
    "    'b2':tf.Variable(tf.random_normal([n_hidden_2])),\n",
    "    \n",
    "    'b3':tf.Variable(tf.random_normal([n_hidden_3])),\n",
    "    'out':tf.Variable(tf.random_normal([n_classes]))\n",
    "}\n",
    "\n",
    "\n",
    "print(\"Set the network\")\n"
   ]
  },
  {
   "cell_type": "code",
   "execution_count": null,
   "metadata": {},
   "outputs": [
    {
     "name": "stdout",
     "output_type": "stream",
     "text": [
      "WARNING:tensorflow:From <ipython-input-4-869a2795a39c>:28: initialize_all_variables (from tensorflow.python.ops.variables) is deprecated and will be removed after 2017-03-02.\n",
      "Instructions for updating:\n",
      "Use `tf.global_variables_initializer` instead.\n"
     ]
    }
   ],
   "source": [
    "def multilayer_perceptron(_x,_weights,_biases,_keep_prob):\n",
    "    x_1=tf.nn.relu(tf.add(tf.matmul(_x,_weights['h1']),_biases['b1']))\n",
    "    \n",
    "    \n",
    "    \n",
    "    layer_1=x_1\n",
    "    \n",
    "    #2 layer\n",
    "    x_2=tf.nn.relu(tf.add(tf.matmul(layer_1,_weights['h2']),_biases['b2']))\n",
    "    layer_2=x_2\n",
    "    \n",
    "    #3 layer\n",
    "    \n",
    "    x_3=tf.nn.relu(tf.add(tf.matmul(layer_2,_weights['h3']),_biases['b3']))\n",
    "    \n",
    "    layer_3= tf.nn.dropout(x_3, _keep_prob)\n",
    "    return (tf.matmul(layer_3, _weights['out'])+ _biases['out'])\n",
    "    return\n",
    "\n",
    "pred=multilayer_perceptron(x,weights,biases, dropout_keep_prob)\n",
    "cost=tf.reduce_mean(tf.nn.softmax_cross_entropy_with_logits(logits=pred,labels=y))\n",
    "optm=tf.train.AdamOptimizer(learning_rate=0.001).minimize(cost)\n",
    "corr=tf.equal(tf.argmax(pred,1), tf.argmax(y,1))\n",
    "accr=tf.reduce_mean(tf.cast(corr,\"float\"))\n",
    "#initialize\n",
    "sess=tf.Session()\n",
    "    \n",
    "init = tf.initialize_all_variables()\n",
    "sess.run(init)"
   ]
  },
  {
   "cell_type": "code",
   "execution_count": null,
   "metadata": {},
   "outputs": [
    {
     "name": "stdout",
     "output_type": "stream",
     "text": [
      "Epoch: 003/020 cost: 0.033197055\n",
      "Train accuracy: 0.980\n",
      "test accuracy:0.976\n"
     ]
    }
   ],
   "source": [
    "training_epochs=20\n",
    "batch_size=100\n",
    "display_step=4\n",
    "sess=tf.Session()\n",
    "\n",
    "sess.run(init)\n",
    "\n",
    "#optimize\n",
    "\n",
    "for epoch in range(training_epochs):\n",
    "    avg_cost=0\n",
    "    total_batch=int(mnist.train.num_examples/batch_size)\n",
    "    #Iteration\n",
    "    for i in range(total_batch):\n",
    "        batch_xs,batch_ys=mnist.train.next_batch(batch_size)\n",
    "        feeds={x: batch_xs, y: batch_ys, dropout_keep_prob: 0.6}\n",
    "        sess.run(optm, feed_dict=feeds)\n",
    "        feeds={x: batch_xs, y: batch_ys, dropout_keep_prob: 1.0}\n",
    "        avg_cost+= sess.run(cost, feed_dict=feeds)\n",
    "    avg_cost=avg_cost/total_batch\n",
    "    \n",
    "    \n",
    "    #display\n",
    "    \n",
    "    if (epoch+1) %display_step==0:\n",
    "        print (\"Epoch: %03d/%03d cost: %.9f\" % (epoch, training_epochs, avg_cost))\n",
    "        feeds = {x:batch_xs, y:batch_ys, dropout_keep_prob:1.0}\n",
    "        train_acc=sess.run(accr,feed_dict=feeds)\n",
    "        print(\"Train accuracy: %.3f\" % (train_acc))\n",
    "        feeds={x:mnist.test.images, y:mnist.test.labels, dropout_keep_prob: 1.0}\n",
    "        test_acc=sess.run(accr, feed_dict=feeds)\n",
    "        print(\"test accuracy:%.3f\" % (test_acc))\n",
    "print(\"done\")\n"
   ]
  },
  {
   "cell_type": "code",
   "execution_count": null,
   "metadata": {},
   "outputs": [],
   "source": []
  }
 ],
 "metadata": {
  "kernelspec": {
   "display_name": "Python 3",
   "language": "python",
   "name": "python3"
  },
  "language_info": {
   "codemirror_mode": {
    "name": "ipython",
    "version": 3
   },
   "file_extension": ".py",
   "mimetype": "text/x-python",
   "name": "python",
   "nbconvert_exporter": "python",
   "pygments_lexer": "ipython3",
   "version": "3.5.3"
  }
 },
 "nbformat": 4,
 "nbformat_minor": 2
}

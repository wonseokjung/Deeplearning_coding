{
 "cells": [
  {
   "cell_type": "code",
   "execution_count": 1,
   "metadata": {},
   "outputs": [
    {
     "name": "stdout",
     "output_type": "stream",
     "text": [
      "Imported\n"
     ]
    }
   ],
   "source": [
    "import numpy as np\n",
    "import tensorflow as tf\n",
    "import matplotlib.pyplot as plt\n",
    "from tensorflow.examples.tutorials.mnist import input_data\n",
    "print(\"Imported\")"
   ]
  },
  {
   "cell_type": "markdown",
   "metadata": {},
   "source": [
    "# Download"
   ]
  },
  {
   "cell_type": "code",
   "execution_count": 2,
   "metadata": {},
   "outputs": [
    {
     "name": "stdout",
     "output_type": "stream",
     "text": [
      "Extracting data/train-images-idx3-ubyte.gz\n",
      "Extracting data/train-labels-idx1-ubyte.gz\n",
      "Extracting data/t10k-images-idx3-ubyte.gz\n",
      "Extracting data/t10k-labels-idx1-ubyte.gz\n",
      "Mnist load\n"
     ]
    }
   ],
   "source": [
    "mnist = input_data.read_data_sets(\"data/\", one_hot=True)\n",
    "trainimg=mnist.train.images\n",
    "trainlabel=mnist.train.labels\n",
    "testimg=mnist.test.images\n",
    "testlabel=mnist.test.labels\n",
    "\n",
    "print(\"Mnist load\")"
   ]
  },
  {
   "cell_type": "code",
   "execution_count": null,
   "metadata": {
    "collapsed": true
   },
   "outputs": [],
   "source": []
  },
  {
   "cell_type": "markdown",
   "metadata": {},
   "source": [
    "# Create tensor graph "
   ]
  },
  {
   "cell_type": "code",
   "execution_count": 8,
   "metadata": {},
   "outputs": [
    {
     "name": "stdout",
     "output_type": "stream",
     "text": [
      "55000\n",
      "<class 'numpy.ndarray'>\n",
      "55000\n",
      "<class 'numpy.ndarray'>\n",
      "10000\n",
      "<class 'numpy.ndarray'>\n",
      "10000\n",
      "<class 'numpy.ndarray'>\n"
     ]
    }
   ],
   "source": [
    "#Cheking the length \n",
    "print(len(trainimg))\n",
    "print(type(trainimg))\n",
    "print(len(trainlabel))\n",
    "print(type(trainlabel))\n",
    "print(len(testimg))\n",
    "print(type(testimg))\n",
    "print(len(testlabel))\n",
    "print(type(testlabel))\n",
    "\n",
    "\n"
   ]
  },
  {
   "cell_type": "code",
   "execution_count": 19,
   "metadata": {},
   "outputs": [],
   "source": [
    "x=tf.placeholder(\"float\",[None,784])\n",
    "y=tf.placeholder(\"float\", [None,10])\n",
    "W=tf.Variable(tf.zeros([784,10]))\n",
    "b=tf.Variable(tf.zeros([10]))\n",
    "\n",
    "#Logistic regression model\n",
    "\n",
    "actv=tf.nn.softmax(tf.matmul(x,W)+b)\n",
    "\n",
    "#cost function\n",
    "cost=tf.reduce_mean(-tf.reduce_sum(y*tf.log(actv), reduction_indices=1))\n",
    "#optimizer\n",
    "learning_rate=0.01\n",
    "optm = tf.train.GradientDescentOptimizer(learning_rate).minimize(cost)\n"
   ]
  },
  {
   "cell_type": "markdown",
   "metadata": {},
   "source": [
    "# Prediction and Accuracy\n",
    "    "
   ]
  },
  {
   "cell_type": "code",
   "execution_count": 28,
   "metadata": {},
   "outputs": [
    {
     "name": "stdout",
     "output_type": "stream",
     "text": [
      "WARNING:tensorflow:From <ipython-input-28-9be85d07ed4c>:9: initialize_all_variables (from tensorflow.python.ops.variables) is deprecated and will be removed after 2017-03-02.\n",
      "Instructions for updating:\n",
      "Use `tf.global_variables_initializer` instead.\n"
     ]
    }
   ],
   "source": [
    "#prediction\n",
    "\n",
    "pred= tf.equal(tf.argmax(actv,1),tf.argmax(y,1))\n",
    "\n",
    "#Accuracy\n",
    "accr=tf.reduce_mean(tf.cast(pred,\"float\"))\n",
    "\n",
    "#Initialize\n",
    "init = tf.initialize_all_variables()"
   ]
  },
  {
   "cell_type": "markdown",
   "metadata": {},
   "source": [
    "# Train Model"
   ]
  },
  {
   "cell_type": "code",
   "execution_count": 35,
   "metadata": {},
   "outputs": [
    {
     "name": "stdout",
     "output_type": "stream",
     "text": [
      "Epoch: 000/050 cost : 1.176373848 train_acc: 0.790 test_acc: 0.854100\n",
      "Epoch: 005/050 cost : 0.440933974 train_acc: 0.910 test_acc: 0.894700\n",
      "Epoch: 010/050 cost : 0.383276874 train_acc: 0.890 test_acc: 0.904500\n",
      "Epoch: 015/050 cost : 0.357289564 train_acc: 0.900 test_acc: 0.908500\n",
      "Epoch: 020/050 cost : 0.341463789 train_acc: 0.880 test_acc: 0.911000\n",
      "Epoch: 025/050 cost : 0.330537734 train_acc: 0.900 test_acc: 0.914500\n",
      "Epoch: 030/050 cost : 0.322389494 train_acc: 0.880 test_acc: 0.916200\n",
      "Epoch: 035/050 cost : 0.315911040 train_acc: 0.890 test_acc: 0.917200\n",
      "Epoch: 040/050 cost : 0.310711429 train_acc: 0.910 test_acc: 0.918100\n",
      "Epoch: 045/050 cost : 0.306380189 train_acc: 0.970 test_acc: 0.919200\n"
     ]
    }
   ],
   "source": [
    "training_epochs=50\n",
    "batch_size=100\n",
    "display_step=5\n",
    "#session\n",
    "sess=tf.Session()\n",
    "sess.run(init)\n",
    "\n",
    "#mini batch learning\n",
    "\n",
    "for epoch in range(training_epochs):\n",
    "    avg_cost=0.\n",
    "    num_batch=int(mnist.train.num_examples/batch_size)\n",
    "    for i in range(num_batch):\n",
    "        batch_xs, batch_ys=mnist.train.next_batch(batch_size)\n",
    "        sess.run(optm, feed_dict={x:batch_xs, y:batch_ys})\n",
    "        feeds= {x:batch_xs, y:batch_ys}\n",
    "        avg_cost += sess.run(cost, feed_dict=feeds)/num_batch\n",
    "#display\n",
    "    if epoch % display_step==0:\n",
    "        feeds_train={x:batch_xs, y:batch_ys}\n",
    "        feeds_test= {x: mnist.test.images, y:mnist.test.labels}\n",
    "        train_acc=sess.run(accr, feed_dict=feeds_train)\n",
    "        test_acc=sess.run(accr, feed_dict=feeds_test)\n",
    "        print(\"Epoch: %03d/%03d cost : %.9f train_acc: %.3f test_acc: %3f\" %( epoch, training_epochs, avg_cost, train_acc, test_acc))"
   ]
  },
  {
   "cell_type": "code",
   "execution_count": null,
   "metadata": {
    "collapsed": true
   },
   "outputs": [],
   "source": []
  }
 ],
 "metadata": {
  "kernelspec": {
   "display_name": "Python 3",
   "language": "python",
   "name": "python3"
  },
  "language_info": {
   "codemirror_mode": {
    "name": "ipython",
    "version": 3
   },
   "file_extension": ".py",
   "mimetype": "text/x-python",
   "name": "python",
   "nbconvert_exporter": "python",
   "pygments_lexer": "ipython3",
   "version": "3.5.3"
  }
 },
 "nbformat": 4,
 "nbformat_minor": 2
}

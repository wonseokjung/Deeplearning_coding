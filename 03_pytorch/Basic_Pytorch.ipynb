{
 "cells": [
  {
   "cell_type": "markdown",
   "metadata": {},
   "source": [
    "# This is a Pytorch Tutorial\n",
    "\n"
   ]
  },
  {
   "cell_type": "code",
   "execution_count": 1,
   "metadata": {
    "collapsed": true
   },
   "outputs": [],
   "source": [
    "import torch\n",
    "import numpy as np"
   ]
  },
  {
   "cell_type": "markdown",
   "metadata": {},
   "source": [
    "\n",
    "# Tensor???\n",
    "\n",
    "\n"
   ]
  },
  {
   "cell_type": "markdown",
   "metadata": {},
   "source": [
    "![alt text](01.jpg \"pytorch?\")"
   ]
  },
  {
   "cell_type": "markdown",
   "metadata": {
    "collapsed": true
   },
   "source": [
    "![alt text](сДЙсЕ│сЖпсДЕсЕбсДЛсЕ╡сДГсЕ│02.jpg \"pytorch??\")"
   ]
  },
  {
   "cell_type": "code",
   "execution_count": 16,
   "metadata": {
    "collapsed": false
   },
   "outputs": [
    {
     "name": "stdout",
     "output_type": "stream",
     "text": [
      "replacement for numpy to use the power of GPU\n",
      "deep learning research platform that provides maximum flexibility and speed\n"
     ]
    }
   ],
   "source": [
    "print(\"replacement for numpy to use the power of GPU\")\n",
    "print(\"deep learning research platform that provides maximum flexibility and speed\")"
   ]
  },
  {
   "cell_type": "markdown",
   "metadata": {
    "collapsed": true
   },
   "source": [
    "![alt text](сДЙсЕ│сЖпсДЕсЕбсДЛсЕ╡сДГсЕ│03.jpg \"pytorch??\")"
   ]
  },
  {
   "cell_type": "code",
   "execution_count": 17,
   "metadata": {
    "collapsed": false
   },
   "outputs": [
    {
     "name": "stdout",
     "output_type": "stream",
     "text": [
      "[[5 2]\n",
      " [2 5]]\n"
     ]
    }
   ],
   "source": [
    "import numpy as np\n",
    "\n",
    "example_numpy= np.array([[5,2],[2,5]])\n",
    "print(example_numpy)"
   ]
  },
  {
   "cell_type": "markdown",
   "metadata": {
    "collapsed": true
   },
   "source": []
  },
  {
   "cell_type": "markdown",
   "metadata": {},
   "source": [
    "# Construct Matrix "
   ]
  },
  {
   "cell_type": "markdown",
   "metadata": {
    "collapsed": true
   },
   "source": [
    "\n",
    "![alt text](сДЙсЕ│сЖпсДЕсЕбсДЛсЕ╡сДГсЕ│04.jpg \"pytorch??\")\n"
   ]
  },
  {
   "cell_type": "code",
   "execution_count": 18,
   "metadata": {
    "collapsed": false
   },
   "outputs": [
    {
     "name": "stdout",
     "output_type": "stream",
     "text": [
      "\n",
      " 1.4213e+08  4.5750e-41  1.4213e+08\n",
      " 4.5750e-41         nan  4.5750e-41\n",
      " 1.2497e+04  1.1405e+04  6.4101e-10\n",
      " 4.3199e-05  1.8460e-07  7.0478e+02\n",
      " 6.7137e-07  1.6881e-07  1.0242e-11\n",
      "[torch.FloatTensor of size 5x3]\n",
      "\n",
      "\n",
      "\n",
      "Columns 0 to 5 \n",
      " 1.4213e+08  4.5750e-41  1.4213e+08  4.5750e-41  0.0000e+00  0.0000e+00\n",
      " 0.0000e+00  0.0000e+00  0.0000e+00  0.0000e+00  0.0000e+00  0.0000e+00\n",
      " 0.0000e+00  0.0000e+00  0.0000e+00  0.0000e+00  0.0000e+00  0.0000e+00\n",
      " 0.0000e+00  0.0000e+00  0.0000e+00  0.0000e+00  1.7937e-43  0.0000e+00\n",
      "\n",
      "Columns 6 to 7 \n",
      " 0.0000e+00  0.0000e+00\n",
      " 0.0000e+00  0.0000e+00\n",
      " 0.0000e+00  0.0000e+00\n",
      " 4.4842e-44  0.0000e+00\n",
      "[torch.FloatTensor of size 4x8]\n",
      "\n"
     ]
    }
   ],
   "source": [
    "\n",
    "#Uninitialize \n",
    "Un_mat=torch.Tensor(5,3)\n",
    "\n",
    "Un_mat2=torch.Tensor(4,8)\n",
    "\n",
    "\n",
    "print(Un_mat)\n",
    "print(Un_mat2)\n",
    "\n"
   ]
  },
  {
   "cell_type": "markdown",
   "metadata": {
    "collapsed": true
   },
   "source": [
    "![alt text](сДЙсЕ│сЖпсДЕсЕбсДЛсЕ╡сДГсЕ│05.jpg \"pytorch??\")"
   ]
  },
  {
   "cell_type": "code",
   "execution_count": 19,
   "metadata": {
    "collapsed": false
   },
   "outputs": [
    {
     "name": "stdout",
     "output_type": "stream",
     "text": [
      "\n",
      "-0.1100 -0.0738  0.2871\n",
      "-0.1532  1.6134  1.4124\n",
      " 0.1476 -0.4961  0.9236\n",
      " 1.5267 -0.2079 -0.3273\n",
      "-0.6666  0.1977 -0.9329\n",
      "[torch.FloatTensor of size 5x3]\n",
      "\n",
      "\n",
      " 0.8324  1.5777  0.3075  0.9543  1.3557  0.5196  0.5296  1.5105\n",
      "-0.7143  0.3981 -0.1586  0.2449 -1.7162  1.3048 -1.2818  0.3597\n",
      "-0.8930 -0.6277 -0.9585 -0.4735 -1.2230  0.0412  1.1653  1.1330\n",
      "-0.4476 -0.1679  0.2518  0.7881  0.3342 -1.5632 -0.6251 -0.8035\n",
      "[torch.FloatTensor of size 4x8]\n",
      "\n"
     ]
    }
   ],
   "source": [
    "#Randomly Initiailzied Matrix\n",
    "\n",
    "In_mat=torch.randn(5,3)\n",
    "In_mat2=torch.randn(4,8)\n",
    "print(In_mat)\n",
    "print(In_mat2)"
   ]
  },
  {
   "cell_type": "markdown",
   "metadata": {},
   "source": [
    "\n",
    "# Operations "
   ]
  },
  {
   "cell_type": "markdown",
   "metadata": {},
   "source": [
    "![alt text](сДЙсЕ│сЖпсДЕсЕбсДЛсЕ╡сДГсЕ│06.jpg \"pytorch??\")"
   ]
  },
  {
   "cell_type": "code",
   "execution_count": 20,
   "metadata": {
    "collapsed": true
   },
   "outputs": [],
   "source": [
    "a=torch.rand(5,2)"
   ]
  },
  {
   "cell_type": "code",
   "execution_count": 21,
   "metadata": {
    "collapsed": false
   },
   "outputs": [],
   "source": [
    "b=torch.rand(5,2)"
   ]
  },
  {
   "cell_type": "code",
   "execution_count": 22,
   "metadata": {
    "collapsed": false
   },
   "outputs": [
    {
     "name": "stdout",
     "output_type": "stream",
     "text": [
      "\n",
      " 0.8049  0.6703\n",
      " 0.8113  0.7226\n",
      " 0.7606  0.3078\n",
      " 0.7203  0.4332\n",
      " 0.9442  0.5564\n",
      "[torch.FloatTensor of size 5x2]\n",
      "\n",
      "\n",
      " 0.3009  0.0479\n",
      " 0.8680  0.8975\n",
      " 0.5720  0.7647\n",
      " 0.3391  0.5130\n",
      " 0.2630  0.3400\n",
      "[torch.FloatTensor of size 5x2]\n",
      "\n",
      "\n",
      " 1.1058  0.7181\n",
      " 1.6793  1.6201\n",
      " 1.3326  1.0725\n",
      " 1.0594  0.9462\n",
      " 1.2072  0.8964\n",
      "[torch.FloatTensor of size 5x2]\n",
      "\n"
     ]
    },
    {
     "data": {
      "text/plain": [
       "\n",
       " 1.1058  0.7181\n",
       " 1.6793  1.6201\n",
       " 1.3326  1.0725\n",
       " 1.0594  0.9462\n",
       " 1.2072  0.8964\n",
       "[torch.FloatTensor of size 5x2]"
      ]
     },
     "execution_count": 22,
     "metadata": {},
     "output_type": "execute_result"
    }
   ],
   "source": [
    "print(a)\n",
    "print(b)\n",
    "print(a+b)\n",
    "\n",
    "torch.add(a,b)"
   ]
  },
  {
   "cell_type": "markdown",
   "metadata": {},
   "source": [
    "### giving an output tensor"
   ]
  },
  {
   "cell_type": "code",
   "execution_count": 1,
   "metadata": {
    "collapsed": false
   },
   "outputs": [
    {
     "ename": "NameError",
     "evalue": "name 'torch' is not defined",
     "output_type": "error",
     "traceback": [
      "\u001b[0;31m---------------------------------------------------------------------------\u001b[0m",
      "\u001b[0;31mNameError\u001b[0m                                 Traceback (most recent call last)",
      "\u001b[0;32m<ipython-input-1-00cdd0d162a8>\u001b[0m in \u001b[0;36m<module>\u001b[0;34m()\u001b[0m\n\u001b[0;32m----> 1\u001b[0;31m \u001b[0mresult\u001b[0m\u001b[0;34m=\u001b[0m\u001b[0mtorch\u001b[0m\u001b[0;34m.\u001b[0m\u001b[0mTensor\u001b[0m\u001b[0;34m(\u001b[0m\u001b[0;36m5\u001b[0m\u001b[0;34m,\u001b[0m\u001b[0;36m3\u001b[0m\u001b[0;34m)\u001b[0m\u001b[0;34m\u001b[0m\u001b[0m\n\u001b[0m\u001b[1;32m      2\u001b[0m \u001b[0mout\u001b[0m\u001b[0;34m=\u001b[0m\u001b[0mtorch\u001b[0m\u001b[0;34m.\u001b[0m\u001b[0madd\u001b[0m\u001b[0;34m(\u001b[0m\u001b[0ma\u001b[0m\u001b[0;34m,\u001b[0m\u001b[0mb\u001b[0m\u001b[0;34m,\u001b[0m\u001b[0mout\u001b[0m\u001b[0;34m=\u001b[0m\u001b[0mresult\u001b[0m\u001b[0;34m)\u001b[0m\u001b[0;34m\u001b[0m\u001b[0m\n\u001b[1;32m      3\u001b[0m \u001b[0mprint\u001b[0m\u001b[0;34m(\u001b[0m\u001b[0mout\u001b[0m\u001b[0;34m)\u001b[0m\u001b[0;34m\u001b[0m\u001b[0m\n\u001b[1;32m      4\u001b[0m \u001b[0mprint\u001b[0m\u001b[0;34m(\u001b[0m\u001b[0mresult\u001b[0m\u001b[0;34m)\u001b[0m\u001b[0;34m\u001b[0m\u001b[0m\n",
      "\u001b[0;31mNameError\u001b[0m: name 'torch' is not defined"
     ]
    }
   ],
   "source": [
    "result=torch.Tensor(5,3)\n",
    "out=torch.add(a,b,out=result)\n",
    "print(out)\n",
    "print(result)"
   ]
  },
  {
   "cell_type": "code",
   "execution_count": 24,
   "metadata": {
    "collapsed": false
   },
   "outputs": [
    {
     "data": {
      "text/plain": [
       "\n",
       " 0.8049  0.6703\n",
       " 0.8113  0.7226\n",
       " 0.7606  0.3078\n",
       " 0.7203  0.4332\n",
       " 0.9442  0.5564\n",
       "[torch.FloatTensor of size 5x2]"
      ]
     },
     "execution_count": 24,
     "metadata": {},
     "output_type": "execute_result"
    }
   ],
   "source": [
    "a"
   ]
  },
  {
   "cell_type": "code",
   "execution_count": 25,
   "metadata": {
    "collapsed": false
   },
   "outputs": [
    {
     "name": "stdout",
     "output_type": "stream",
     "text": [
      "\n",
      " 0.6703\n",
      " 0.7226\n",
      " 0.3078\n",
      " 0.4332\n",
      " 0.5564\n",
      "[torch.FloatTensor of size 5]\n",
      "\n"
     ]
    }
   ],
   "source": [
    "print(a[:,1])"
   ]
  },
  {
   "cell_type": "code",
   "execution_count": 26,
   "metadata": {
    "collapsed": false
   },
   "outputs": [
    {
     "name": "stdout",
     "output_type": "stream",
     "text": [
      "\n",
      " 1\n",
      " 1\n",
      " 1\n",
      " 1\n",
      " 1\n",
      "[torch.FloatTensor of size 5]\n",
      "\n"
     ]
    },
    {
     "data": {
      "text/plain": [
       "array([[ 0.80489326,  0.67027372],\n",
       "       [ 0.81131333,  0.7226119 ],\n",
       "       [ 0.76056987,  0.30776983],\n",
       "       [ 0.7203269 ,  0.43321446],\n",
       "       [ 0.94421947,  0.55636609]], dtype=float32)"
      ]
     },
     "execution_count": 26,
     "metadata": {},
     "output_type": "execute_result"
    }
   ],
   "source": [
    "b=torch.ones(5)\n",
    "print(b)\n",
    "a\n",
    "c=b.numpy()\n",
    "d=a.numpy()\n",
    "a\n",
    "\n",
    "d\n",
    "\n",
    "\n"
   ]
  },
  {
   "cell_type": "markdown",
   "metadata": {},
   "source": [
    "# numpy bridge"
   ]
  },
  {
   "cell_type": "markdown",
   "metadata": {},
   "source": [
    "![alt text](сДЙсЕ│сЖпсДЕсЕбсДЛсЕ╡сДГсЕ│07.jpg \"pytorch??\")"
   ]
  },
  {
   "cell_type": "code",
   "execution_count": 27,
   "metadata": {
    "collapsed": false,
    "scrolled": true
   },
   "outputs": [
    {
     "name": "stdout",
     "output_type": "stream",
     "text": [
      "\n",
      " 0.4430  0.4126  0.3118\n",
      " 0.0324  0.3998  0.2025\n",
      " 0.2731  0.3058  0.0672\n",
      " 0.6814  0.7165  0.8389\n",
      " 0.2186  0.5120  0.5133\n",
      "[torch.FloatTensor of size 5x3]\n",
      "\n"
     ]
    },
    {
     "data": {
      "text/plain": [
       "array([[ 0.4429709 ,  0.41257447,  0.31180006],\n",
       "       [ 0.03236676,  0.39978251,  0.20245542],\n",
       "       [ 0.27309191,  0.30579886,  0.06719829],\n",
       "       [ 0.68137193,  0.71646774,  0.83889329],\n",
       "       [ 0.21864745,  0.51197046,  0.51333851]], dtype=float32)"
      ]
     },
     "execution_count": 27,
     "metadata": {},
     "output_type": "execute_result"
    }
   ],
   "source": [
    "\n",
    "# torch to numpy\n",
    "\n",
    "torch_to_numpy= torch.rand(5,3)\n",
    "\n",
    "print(torch_to_numpy)\n",
    "\n",
    "torch_to_numpy.numpy()"
   ]
  },
  {
   "cell_type": "markdown",
   "metadata": {},
   "source": [
    "![alt text](сДЙсЕ│сЖпсДЕсЕбсДЛсЕ╡сДГсЕ│08.jpg \"pytorch??\")"
   ]
  },
  {
   "cell_type": "code",
   "execution_count": 28,
   "metadata": {
    "collapsed": false
   },
   "outputs": [
    {
     "name": "stdout",
     "output_type": "stream",
     "text": [
      "[ 1.  1.  1.  1.  1.]\n",
      "\n",
      " 1\n",
      " 1\n",
      " 1\n",
      " 1\n",
      " 1\n",
      "[torch.DoubleTensor of size 5]\n",
      "\n"
     ]
    }
   ],
   "source": [
    "# numpy to torch\n",
    "numpy_to_torch=np.ones(5)\n",
    "\n",
    "print(numpy_to_torch)\n",
    "\n",
    "print(torch.from_numpy(numpy_to_torch))\n",
    "\n",
    "\n"
   ]
  }
 ],
 "metadata": {
  "kernelspec": {
   "display_name": "Python 3",
   "language": "python",
   "name": "python3"
  },
  "language_info": {
   "codemirror_mode": {
    "name": "ipython",
    "version": 3
   },
   "file_extension": ".py",
   "mimetype": "text/x-python",
   "name": "python",
   "nbconvert_exporter": "python",
   "pygments_lexer": "ipython3",
   "version": "3.6.0"
  }
 },
 "nbformat": 4,
 "nbformat_minor": 2
}

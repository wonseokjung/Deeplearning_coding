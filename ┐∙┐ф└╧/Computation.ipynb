{
 "cells": [
  {
   "cell_type": "code",
   "execution_count": 1,
   "metadata": {},
   "outputs": [
    {
     "name": "stdout",
     "output_type": "stream",
     "text": [
      "At the grocery store, I bought some  apple and bananas and grapes\n"
     ]
    }
   ],
   "source": [
    "item1 = \"apple\"\n",
    "item2 = \"bananas\"\n",
    "item3 = 'grapes'\n",
    "\n",
    "print('At the grocery store, I bought some  {0} and {1} and {2}'.format(item1, item2, item3))\n",
    "\n"
   ]
  },
  {
   "cell_type": "code",
   "execution_count": 2,
   "metadata": {},
   "outputs": [
    {
     "name": "stdout",
     "output_type": "stream",
     "text": [
      "Number 1 : 1, Number 2 : 2321\n"
     ]
    }
   ],
   "source": [
    "print(\"Number 1 : {0}, Number 2 : {1}\".format(1,2321\n",
    "                                             ))"
   ]
  },
  {
   "cell_type": "code",
   "execution_count": 3,
   "metadata": {},
   "outputs": [
    {
     "name": "stdout",
     "output_type": "stream",
     "text": [
      "Enter a number2\n",
      "2.0 x 1 = 2.0\n",
      "2.0 x 2 = 4.0\n",
      "2.0 x 3 = 6.0\n",
      "2.0 x 4 = 8.0\n",
      "2.0 x 5 = 10.0\n",
      "2.0 x 6 = 12.0\n",
      "2.0 x 7 = 14.0\n",
      "2.0 x 8 = 16.0\n",
      "2.0 x 9 = 18.0\n",
      "2.0 x 10 = 20.0\n"
     ]
    }
   ],
   "source": [
    "# multiplication table printer\n",
    "\n",
    "def multi_table(a):\n",
    "    for i in range(1, 11):\n",
    "        print('{0} x {1} = {2}'.format(a,i,a*i))\n",
    "if __name__=='__main__':\n",
    "    a = input(\"Enter a number\")\n",
    "    multi_table(float(a))"
   ]
  },
  {
   "cell_type": "code",
   "execution_count": 4,
   "metadata": {},
   "outputs": [
    {
     "name": "stdout",
     "output_type": "stream",
     "text": [
      "2\n"
     ]
    },
    {
     "data": {
      "text/plain": [
       "'2'"
      ]
     },
     "execution_count": 4,
     "metadata": {},
     "output_type": "execute_result"
    }
   ],
   "source": [
    "input()"
   ]
  },
  {
   "cell_type": "code",
   "execution_count": null,
   "metadata": {},
   "outputs": [],
   "source": [
    "print('{0}'.format(1.241234234))\n",
    "\n",
    "print(\"{0:.2f}\".format(1.2321423423525))\n",
    "\n",
    "print(\"{0:.2f}\".format(1))"
   ]
  },
  {
   "cell_type": "code",
   "execution_count": null,
   "metadata": {},
   "outputs": [],
   "source": [
    "# inch to meter\n",
    "#25.5 inch to meter\n",
    "\n",
    "(25.5*2.54)/100"
   ]
  },
  {
   "cell_type": "code",
   "execution_count": null,
   "metadata": {
    "collapsed": true
   },
   "outputs": [],
   "source": [
    "#temp\n",
    "\n",
    "def print_menu():\n",
    "    print(\"1. kilometers to Miles\")\n",
    "    print(\"2. Miles to kilometers\")\n",
    "def km_miles():\n",
    "    "
   ]
  },
  {
   "cell_type": "code",
   "execution_count": null,
   "metadata": {
    "collapsed": true
   },
   "outputs": [],
   "source": [
    "def km_miles():\n",
    "    km=float(input(\"enter the km\"))\n",
    "    miles=km/1.609\n",
    "    print(km, \"is same as\", miles,\"miles\")"
   ]
  },
  {
   "cell_type": "code",
   "execution_count": null,
   "metadata": {},
   "outputs": [],
   "source": [
    "km_miles()"
   ]
  },
  {
   "cell_type": "code",
   "execution_count": 9,
   "metadata": {
    "collapsed": true
   },
   "outputs": [],
   "source": [
    "def miles_km():\n",
    "    mile =float(input(\"Enter the mile\"))\n",
    "    km = mile *1.6094\n",
    "    print(mile,\"is same as\",km,\"miles\")"
   ]
  },
  {
   "cell_type": "code",
   "execution_count": 10,
   "metadata": {},
   "outputs": [
    {
     "name": "stdout",
     "output_type": "stream",
     "text": [
      "Enter the mile2\n",
      "2.0 is same as 3.2188 miles\n"
     ]
    }
   ],
   "source": [
    "miles_km()"
   ]
  },
  {
   "cell_type": "code",
   "execution_count": 14,
   "metadata": {},
   "outputs": [
    {
     "data": {
      "text/plain": [
       "-411"
      ]
     },
     "execution_count": 14,
     "metadata": {},
     "output_type": "execute_result"
    }
   ],
   "source": [
    "#find x\n",
    "\n",
    "# x+500-79 = 10\n",
    "\n",
    "x=10-500+79\n",
    "x\n",
    "    "
   ]
  },
  {
   "cell_type": "code",
   "execution_count": 20,
   "metadata": {},
   "outputs": [
    {
     "name": "stdout",
     "output_type": "stream",
     "text": [
      "-1.0\n"
     ]
    }
   ],
   "source": [
    "#quadratc equation\n",
    "\n",
    "a=1\n",
    "b=2\n",
    "c=1\n",
    "D= (b**2 - 4*a*c)**0.5\n",
    "\n",
    "x_1 = (-b+D) / 2*a\n",
    "x_2 = (-b-D)/2*a\n",
    "\n",
    "print(x_1)\n",
    "print(x_2)"
   ]
  },
  {
   "cell_type": "code",
   "execution_count": 24,
   "metadata": {},
   "outputs": [],
   "source": [
    "def roots(a,b,c):\n",
    "    D= (b**2 -4*a*c) ** 0.5\n",
    "    \n",
    "    x_1 = (-b+D) / 2*a\n",
    "    x_2 = (-b-D)/2*a\n",
    "    print(\"x1 : {0}\".format(x_1))\n",
    "    print(\"x2 : {0}\".format(x_2))\n",
    "    \n"
   ]
  },
  {
   "cell_type": "code",
   "execution_count": null,
   "metadata": {
    "collapsed": true
   },
   "outputs": [],
   "source": [
    "if __name__ ==\"__main__\":\n",
    "    a = float(input(\"type a\"))\n",
    "    b = float(input(\"type a\"))\n",
    "    c = float(input(\"type a\"))   "
   ]
  }
 ],
 "metadata": {
  "kernelspec": {
   "display_name": "Python 3",
   "language": "python",
   "name": "python3"
  },
  "language_info": {
   "codemirror_mode": {
    "name": "ipython",
    "version": 3
   },
   "file_extension": ".py",
   "mimetype": "text/x-python",
   "name": "python",
   "nbconvert_exporter": "python",
   "pygments_lexer": "ipython3",
   "version": "3.5.3"
  }
 },
 "nbformat": 4,
 "nbformat_minor": 2
}
